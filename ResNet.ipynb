{
  "nbformat": 4,
  "nbformat_minor": 0,
  "metadata": {
    "colab": {
      "name": "ResNet.ipynb",
      "provenance": [],
      "collapsed_sections": [],
      "authorship_tag": "ABX9TyMPxsH9OUiKnmyHvv807Qr+",
      "include_colab_link": true
    },
    "kernelspec": {
      "name": "python3",
      "display_name": "Python 3"
    },
    "language_info": {
      "name": "python"
    },
    "accelerator": "GPU"
  },
  "cells": [
    {
      "cell_type": "markdown",
      "metadata": {
        "id": "view-in-github",
        "colab_type": "text"
      },
      "source": [
        "<a href=\"https://colab.research.google.com/github/wincmoriya/pytorch-handson/blob/main/ResNet.ipynb\" target=\"_parent\"><img src=\"https://colab.research.google.com/assets/colab-badge.svg\" alt=\"Open In Colab\"/></a>"
      ]
    },
    {
      "cell_type": "markdown",
      "metadata": {
        "id": "3dxdzGX6kCsW"
      },
      "source": [
        "## ResNet実装\n",
        "* 学習自体は行わない\n",
        "* 残差ブロックを何層も積み重ねてResNetを作る"
      ]
    },
    {
      "cell_type": "code",
      "metadata": {
        "id": "Lz4oY1n2c8i5"
      },
      "source": [
        "import torch\n",
        "import torch.nn as nn"
      ],
      "execution_count": 1,
      "outputs": []
    },
    {
      "cell_type": "markdown",
      "metadata": {
        "id": "oC6Ej04skSHB"
      },
      "source": [
        "## 残差ブロックの定義\n",
        "* 残差ブロックではwight_layerが2つあるので積み上げも2つ必要\n",
        "* スキップコネクションである恒等関数も合流させる"
      ]
    },
    {
      "cell_type": "code",
      "metadata": {
        "id": "qnBqAZcDkRwk"
      },
      "source": [
        "class ResidualBlock(nn.Module):\n",
        "    def __init__(self, in_channels, out_channels):\n",
        "        super().__init__()\n",
        "        # いつものようにnn.Sequentialでネットワーク構築するのではない\n",
        "        # スキップコネクション等複雑な操作がでてくるので使うパーツを定義してからdef forwardの中でネットワーク構築する\n",
        "\n",
        "        # 1つ目の畳み込み層を定義, kernel_size, paddingは一般的な値にする\n",
        "        self.conv1 = nn.Conv2d(in_channels, out_channels, kernel_size=3, padding=1)\n",
        "        # 2つ目、out_channelsを受け取ってout_channelsを出力する畳み込み層にする\n",
        "        self.conv2 = nn.Conv2d(out_channels, out_channels, kernel_size=3, padding=1)\n",
        "        # 3つ目、kernel_size=1 -> あるチャネル数を持ったものを別のチャネル数に変化させる時に、このようなオプションにする\n",
        "        self.conv3 = nn.Conv2d(in_channels, out_channels, kernel_size=1, padding=0)\n",
        "        # バッチノーマライゼーションの定義、引数にはチャネル数が必要\n",
        "        self.bn = nn.BatchNorm2d(out_channels)\n",
        "        # ReLUを渡す\n",
        "        self.relu = nn.ReLU()\n",
        "    def shortcut(self, x):\n",
        "        x = self.conv3(x)\n",
        "        x = self.bn(x)\n",
        "        return x\n",
        "    def forward(self, x):\n",
        "        # 恒等関数の設定\n",
        "        identity = x\n",
        "        # 最初の畳み込みを行う\n",
        "        x = self.conv1(x)\n",
        "        # バッチノーマライゼーションを行う\n",
        "        x = self.bn(x)\n",
        "        x = self.relu(x)\n",
        "        # 2回目の畳み込みを行う\n",
        "        x = self.conv2(x)\n",
        "        x = self.bn(x)\n",
        "        # 恒等関数を足す\n",
        "        # x += identityという風に普通に恒等関数を足すとエラーが起きる\n",
        "        # identityに入っているのは入力のin_channelだが最後のxはout_channelが入っていてチャネル数が違うのでエラーが起きてしまう\n",
        "        # そこでチャネル数を合わせるshortcut()で変換する\n",
        "        x += self.shortcut(identity)\n",
        "        return x\n"
      ],
      "execution_count": 3,
      "outputs": []
    },
    {
      "cell_type": "markdown",
      "metadata": {
        "id": "yCPusHyJShT-"
      },
      "source": [
        "## 残差ブロックを何層も積み重ねてResNetを作成する"
      ]
    },
    {
      "cell_type": "code",
      "metadata": {
        "id": "jwsnBNuSSfdq"
      },
      "source": [
        "class ResNet(nn.Module):\n",
        "    # 残差ブロックを渡すための変数block\n",
        "    def __init__(self, block):\n",
        "        super().__init__()\n",
        "        # 例) 28*28*64で28*28の画像*out_channelsが64, out_featuresは10クラス分類を想定する\n",
        "        self.linear = nn.Linear(in_features=28*28*64, out_features=10)\n",
        "        # _make_layer(block, 3層積み重ね, カラー画像想定で3, 出力は64)\n",
        "        self.layer = self._make_layer(block, 3, 3, 64)\n",
        "    # _make_layer(self, ブロック, 何層作るか, 入力, 出力)\n",
        "    def _make_layer(self, block, num_residual_blocks, in_channels, out_channels):\n",
        "        # 空リストに何層も積み上げていくイメージ\n",
        "        layers = []\n",
        "        # 積み上げたい数だけforループを回す\n",
        "        for i in range(num_residual_blocks):\n",
        "            # 最初のブロックだけは入力画像見たいな入力をするので、in_channelsが3とかっていう数値になる、out_channelsは自分が指定した値\n",
        "            if i==0:\n",
        "                layers.append(block(in_channels, out_channels))\n",
        "            # 2層目以降はout_channelsをin_channelsの部分で渡す\n",
        "            else:\n",
        "                layers.append(block(out_channels, out_channels))\n",
        "        # 複数のブロックを積み重ねたモデルを渡す\n",
        "        return nn.Sequential(*layers)\n",
        "    def forward(self, x):\n",
        "        # 3層のresidualブロックの順伝播が行われる\n",
        "        x = self.layer(x)\n",
        "        # xはチャネル数が64の画像が出てきて、このままだとリニア層(全結合層)に代入できないのでviewを使う\n",
        "        # view(バッチ数の次元, c*h*wの一次元のベクトルに変換)\n",
        "        x = x.view(x.size(0), -1)\n",
        "        x = self.linear(x)\n",
        "        return x"
      ],
      "execution_count": 5,
      "outputs": []
    },
    {
      "cell_type": "code",
      "metadata": {
        "id": "Ckvc-LhIWt9a"
      },
      "source": [
        "model = ResNet(ResidualBlock)"
      ],
      "execution_count": 6,
      "outputs": []
    },
    {
      "cell_type": "code",
      "metadata": {
        "colab": {
          "base_uri": "https://localhost:8080/"
        },
        "id": "9cmo2I_nW4VQ",
        "outputId": "902d08c9-3cd8-4187-82e1-8bad095c99d9"
      },
      "source": [
        "# 3層のresidual_block(0, 1, 2)が作成されていることがわかる\n",
        "model"
      ],
      "execution_count": 7,
      "outputs": [
        {
          "output_type": "execute_result",
          "data": {
            "text/plain": [
              "ResNet(\n",
              "  (linear): Linear(in_features=50176, out_features=10, bias=True)\n",
              "  (layer): Sequential(\n",
              "    (0): ResidualBlock(\n",
              "      (conv1): Conv2d(3, 64, kernel_size=(3, 3), stride=(1, 1), padding=(1, 1))\n",
              "      (conv2): Conv2d(64, 64, kernel_size=(3, 3), stride=(1, 1), padding=(1, 1))\n",
              "      (conv3): Conv2d(3, 64, kernel_size=(1, 1), stride=(1, 1))\n",
              "      (bn): BatchNorm2d(64, eps=1e-05, momentum=0.1, affine=True, track_running_stats=True)\n",
              "      (relu): ReLU()\n",
              "    )\n",
              "    (1): ResidualBlock(\n",
              "      (conv1): Conv2d(64, 64, kernel_size=(3, 3), stride=(1, 1), padding=(1, 1))\n",
              "      (conv2): Conv2d(64, 64, kernel_size=(3, 3), stride=(1, 1), padding=(1, 1))\n",
              "      (conv3): Conv2d(64, 64, kernel_size=(1, 1), stride=(1, 1))\n",
              "      (bn): BatchNorm2d(64, eps=1e-05, momentum=0.1, affine=True, track_running_stats=True)\n",
              "      (relu): ReLU()\n",
              "    )\n",
              "    (2): ResidualBlock(\n",
              "      (conv1): Conv2d(64, 64, kernel_size=(3, 3), stride=(1, 1), padding=(1, 1))\n",
              "      (conv2): Conv2d(64, 64, kernel_size=(3, 3), stride=(1, 1), padding=(1, 1))\n",
              "      (conv3): Conv2d(64, 64, kernel_size=(1, 1), stride=(1, 1))\n",
              "      (bn): BatchNorm2d(64, eps=1e-05, momentum=0.1, affine=True, track_running_stats=True)\n",
              "      (relu): ReLU()\n",
              "    )\n",
              "  )\n",
              ")"
            ]
          },
          "metadata": {},
          "execution_count": 7
        }
      ]
    },
    {
      "cell_type": "code",
      "metadata": {
        "id": "kZn_JF25W7LK"
      },
      "source": [
        "# テストの配列を使って順伝播を計算してみる\n",
        "# randn(ミニバッチサイズ32、チャネル数3、画像サイズ28*28)\n",
        "x_test = torch.randn(32, 3, 28, 28)"
      ],
      "execution_count": 8,
      "outputs": []
    },
    {
      "cell_type": "code",
      "metadata": {
        "id": "PbuNvmEVXk4j"
      },
      "source": [
        "output = model(x_test)"
      ],
      "execution_count": 9,
      "outputs": []
    },
    {
      "cell_type": "code",
      "metadata": {
        "colab": {
          "base_uri": "https://localhost:8080/"
        },
        "id": "43METQo-Xm8w",
        "outputId": "826e4ddf-e3b4-431d-ab13-f4c17f036a23"
      },
      "source": [
        "# ミニバッチ数32で10個の分類のものができる\n",
        "output.size()"
      ],
      "execution_count": 11,
      "outputs": [
        {
          "output_type": "execute_result",
          "data": {
            "text/plain": [
              "torch.Size([32, 10])"
            ]
          },
          "metadata": {},
          "execution_count": 11
        }
      ]
    },
    {
      "cell_type": "code",
      "metadata": {
        "id": "gNmujvmFXpAh"
      },
      "source": [
        ""
      ],
      "execution_count": null,
      "outputs": []
    }
  ]
}