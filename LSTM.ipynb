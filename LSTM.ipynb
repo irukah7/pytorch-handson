{
  "nbformat": 4,
  "nbformat_minor": 0,
  "metadata": {
    "colab": {
      "name": "LSTM.ipynb",
      "provenance": [],
      "collapsed_sections": [],
      "authorship_tag": "ABX9TyMZ9lmZXmsKQHknqPCM29/z",
      "include_colab_link": true
    },
    "kernelspec": {
      "name": "python3",
      "display_name": "Python 3"
    },
    "language_info": {
      "name": "python"
    }
  },
  "cells": [
    {
      "cell_type": "markdown",
      "metadata": {
        "id": "view-in-github",
        "colab_type": "text"
      },
      "source": [
        "<a href=\"https://colab.research.google.com/github/wincmoriya/pytorch-handson/blob/main/LSTM.ipynb\" target=\"_parent\"><img src=\"https://colab.research.google.com/assets/colab-badge.svg\" alt=\"Open In Colab\"/></a>"
      ]
    },
    {
      "cell_type": "markdown",
      "metadata": {
        "id": "HAAEWOqy1whN"
      },
      "source": [
        "## LSTM\n",
        "今回は時系列データに模倣したサイン波に対してLSTMを適用する"
      ]
    },
    {
      "cell_type": "code",
      "metadata": {
        "id": "K7DY6-y21lMm"
      },
      "source": [
        "import torch\n",
        "import torch.nn as nn\n",
        "import torch.optim as optim\n",
        "import matplotlib.pyplot as plt\n",
        "import numpy as np\n",
        "plt.style.use('ggplot')\n",
        "%matplotlib inline"
      ],
      "execution_count": 81,
      "outputs": []
    },
    {
      "cell_type": "markdown",
      "metadata": {
        "id": "_4XmlO4S2cAD"
      },
      "source": [
        "今回のサイン波のデータは比較的データ数が少ないのでバッチ学習で学習していく"
      ]
    },
    {
      "cell_type": "code",
      "metadata": {
        "id": "FoJe63vO2XsO"
      },
      "source": [
        "# データセット -> 0~499までを500のデータ点数で区切る\n",
        "x = np.linspace(0, 499, 500)\n",
        "y = np.sin(x * 2 * np.pi / 50)"
      ],
      "execution_count": 82,
      "outputs": []
    },
    {
      "cell_type": "code",
      "metadata": {
        "colab": {
          "base_uri": "https://localhost:8080/",
          "height": 282
        },
        "id": "qBSwLL9Y22VH",
        "outputId": "222a74d8-d269-45b2-dba9-b9baacc3d553"
      },
      "source": [
        "# 周期的なデータを得られているか確認\n",
        "plt.plot(x, y)"
      ],
      "execution_count": 83,
      "outputs": [
        {
          "output_type": "execute_result",
          "data": {
            "text/plain": [
              "[<matplotlib.lines.Line2D at 0x7f753cecc650>]"
            ]
          },
          "metadata": {},
          "execution_count": 83
        },
        {
          "output_type": "display_data",
          "data": {
            "image/png": "[encoded data removed]",
            "text/plain": [
              "<Figure size 432x288 with 1 Axes>"
            ]
          },
          "metadata": {
            "needs_background": "light"
          }
        }
      ]
    },
    {
      "cell_type": "markdown",
      "metadata": {
        "id": "79s5mDLg3aZS"
      },
      "source": [
        "* 最初の490を学習用、残り10をテスト用のデータセットとして使う\n",
        "* LSTMにデータを入力するには一定のシーケンスを持ったデータ列に変換する必要がある\n",
        "    * シーケンスを作成するメソッドを作成する\n",
        "    * 例えばシーケンス長が4だと4つずつのデータを一まとめにする -> これを入力とする\n"
      ]
    },
    {
      "cell_type": "code",
      "metadata": {
        "id": "P9qcJ8IQ3Iy3"
      },
      "source": [
        "def make_sequence_data(y, num_sequence):\n",
        "    # データ数を与える\n",
        "    num_data = len(y)\n",
        "    # ○刻みのデータを保存するためのリスト\n",
        "    seq_data = []\n",
        "    # 1,2,3,4というデータがあったら5番目の一つ先のデータを予測したいので、その予測値を保存するリスト\n",
        "    target_data = []\n",
        "    # 全体からnum_sequenceを引いた分まででループを回す\n",
        "    for i in range(num_data - num_sequence):\n",
        "        # y[i:i+num_sequence]でsequence分のデータを一まとめにしてappend\n",
        "        seq_data.append(y[i:i+num_sequence])\n",
        "        # y[i+num_sequence:i+num_sequence+1]で一つ先のデータを読み込めるので、これを教師データとしてappend\n",
        "        target_data.append(y[i+num_sequence:i+num_sequence+1])\n",
        "    seq_arr = np.array(seq_data)\n",
        "    target_arr = np.array(target_data)\n",
        "    return seq_arr, target_arr"
      ],
      "execution_count": 84,
      "outputs": []
    },
    {
      "cell_type": "markdown",
      "metadata": {
        "id": "mhRp7DRu54RU"
      },
      "source": [
        "## シーケンス長を決める\n",
        "周期的なデータだったら一定の区切りでシーケンス長を決める(適当に)"
      ]
    },
    {
      "cell_type": "code",
      "metadata": {
        "id": "BJI-_Y5n50dX"
      },
      "source": [
        "seq_length = 40 # 長さを短くすると精度も落ちる\n",
        "y_seq, y_target = make_sequence_data(y, seq_length) # シーケンスの作成"
      ],
      "execution_count": 85,
      "outputs": []
    },
    {
      "cell_type": "code",
      "metadata": {
        "colab": {
          "base_uri": "https://localhost:8080/"
        },
        "id": "jvDY_Cj06cMF",
        "outputId": "3a922144-d38f-4d45-c204-bab308b686c2"
      },
      "source": [
        "# 想定通りになっているかチェック\n",
        "# 40刻みでデータが推移しているので500-40で460個のデータが入っていれば良い -> 1行あたり40個のシーケンスデータが入っている\n",
        "y_seq.shape"
      ],
      "execution_count": 86,
      "outputs": [
        {
          "output_type": "execute_result",
          "data": {
            "text/plain": [
              "(460, 40)"
            ]
          },
          "metadata": {},
          "execution_count": 86
        }
      ]
    },
    {
      "cell_type": "code",
      "metadata": {
        "colab": {
          "base_uri": "https://localhost:8080/"
        },
        "id": "_7UNbSgi6pKX",
        "outputId": "62235eef-9c60-4a68-8262-bc10e5eda0ac"
      },
      "source": [
        "# 教師データは1つだけ -> 40個の1つ先\n",
        "y_target.shape"
      ],
      "execution_count": 87,
      "outputs": [
        {
          "output_type": "execute_result",
          "data": {
            "text/plain": [
              "(460, 1)"
            ]
          },
          "metadata": {},
          "execution_count": 87
        }
      ]
    },
    {
      "cell_type": "code",
      "metadata": {
        "id": "FunAGhJnBJdm"
      },
      "source": [
        "# 最初の490個を使って残りの10個はテスト用にする\n",
        "num_test = 10\n",
        "# 最初の490個とテスト10個\n",
        "y_seq_train = y_seq[:-num_test]\n",
        "y_seq_test = y_seq[-num_test:]\n",
        "y_target_train = y_target[:-num_test]\n",
        "y_target_test = y_target[-num_test:]"
      ],
      "execution_count": 88,
      "outputs": []
    },
    {
      "cell_type": "code",
      "metadata": {
        "colab": {
          "base_uri": "https://localhost:8080/"
        },
        "id": "9IU8YugEB_01",
        "outputId": "f7ac6f38-f45d-428c-fa99-53301e1cfc2c"
      },
      "source": [
        "y_seq_train"
      ],
      "execution_count": 89,
      "outputs": [
        {
          "output_type": "execute_result",
          "data": {
            "text/plain": [
              "array([[ 0.00000000e+00,  1.25333234e-01,  2.48689887e-01, ...,\n",
              "        -9.98026728e-01, -9.98026728e-01, -9.82287251e-01],\n",
              "       [ 1.25333234e-01,  2.48689887e-01,  3.68124553e-01, ...,\n",
              "        -9.98026728e-01, -9.82287251e-01, -9.51056516e-01],\n",
              "       [ 2.48689887e-01,  3.68124553e-01,  4.81753674e-01, ...,\n",
              "        -9.82287251e-01, -9.51056516e-01, -9.04827052e-01],\n",
              "       ...,\n",
              "       [-3.68124553e-01, -2.48689887e-01, -1.25333234e-01, ...,\n",
              "        -9.04827052e-01, -9.51056516e-01, -9.82287251e-01],\n",
              "       [-2.48689887e-01, -1.25333234e-01, -2.20436424e-15, ...,\n",
              "        -9.51056516e-01, -9.82287251e-01, -9.98026728e-01],\n",
              "       [-1.25333234e-01, -2.20436424e-15,  1.25333234e-01, ...,\n",
              "        -9.82287251e-01, -9.98026728e-01, -9.98026728e-01]])"
            ]
          },
          "metadata": {},
          "execution_count": 89
        }
      ]
    },
    {
      "cell_type": "code",
      "metadata": {
        "colab": {
          "base_uri": "https://localhost:8080/"
        },
        "id": "pXKpkHMMCBD6",
        "outputId": "3f245a7e-e1ba-419f-875d-c583e7436c89"
      },
      "source": [
        "# 460個から10個分引かれていることを確認\n",
        "y_seq_train.shape"
      ],
      "execution_count": 90,
      "outputs": [
        {
          "output_type": "execute_result",
          "data": {
            "text/plain": [
              "(450, 40)"
            ]
          },
          "metadata": {},
          "execution_count": 90
        }
      ]
    },
    {
      "cell_type": "code",
      "metadata": {
        "id": "BEeh-D8bCEKr"
      },
      "source": [
        "# FloatTensorに変換する\n",
        "y_seq_t = torch.FloatTensor(y_seq_train)\n",
        "y_target_t = torch.FloatTensor(y_target_train)"
      ],
      "execution_count": 91,
      "outputs": []
    },
    {
      "cell_type": "code",
      "metadata": {
        "id": "3N0RrvsSCbmH"
      },
      "source": [
        "class LSTM(nn.Module):\n",
        "    def __init__(self, hidden_size):\n",
        "        super().__init__()\n",
        "        self.hidden_size = hidden_size\n",
        "        # input_size -> 入力サイズ -> 40のシーケンス長を持った1次元の1つ渡す\n",
        "        self.lstm = nn.LSTM(input_size=1, hidden_size=hidden_size)\n",
        "        # 最後に1つのデータに絞る\n",
        "        self.linear = nn.Linear(self.hidden_size, 1)\n",
        "    def forward(self, x):\n",
        "        # lstmでは(出力値、隠れ層・セルの状態がまとまったタプル)の2つの出力を返し、出力値のみ使う\n",
        "        x, _ = self.lstm(x)\n",
        "        # xはシーケンス長の次元、-1を与えると40個のデータのうちの最後のデータを返す\n",
        "        x_last = x[-1]\n",
        "        # hidden_sizeが入力されて最後1つの値が出てくる\n",
        "        x = self.linear(x_last)\n",
        "        return x"
      ],
      "execution_count": 92,
      "outputs": []
    },
    {
      "cell_type": "code",
      "metadata": {
        "id": "2WnzkYmeEDGJ"
      },
      "source": [
        "# hidden_size 100\n",
        "model = LSTM(100)"
      ],
      "execution_count": 93,
      "outputs": []
    },
    {
      "cell_type": "code",
      "metadata": {
        "id": "Po_v-A4rEE4i"
      },
      "source": [
        "criterion = nn.MSELoss()\n",
        "optimizer = optim.Adam(model.parameters(), lr=0.001)"
      ],
      "execution_count": 94,
      "outputs": []
    },
    {
      "cell_type": "code",
      "metadata": {
        "colab": {
          "base_uri": "https://localhost:8080/"
        },
        "id": "BNhaLBXbENaq",
        "outputId": "27b28b83-e02a-405e-95b2-8accc9389c60"
      },
      "source": [
        "y_seq_t.size()"
      ],
      "execution_count": 95,
      "outputs": [
        {
          "output_type": "execute_result",
          "data": {
            "text/plain": [
              "torch.Size([450, 40])"
            ]
          },
          "metadata": {},
          "execution_count": 95
        }
      ]
    },
    {
      "cell_type": "markdown",
      "metadata": {
        "id": "Suos2ChFEVrN"
      },
      "source": [
        "* 450×40というサイズになっている\n",
        "* LSTMにインプットする際には(シーケンス長、バッチサイズ、インプット)という順番にする必要がある\n",
        "    * torch.Size([450, 40])だと順番が逆なのでpermuteで入れ替える"
      ]
    },
    {
      "cell_type": "code",
      "metadata": {
        "id": "1WHmQl_LESLz"
      },
      "source": [
        "y_seq_t = y_seq_t.permute(1, 0)\n",
        "y_target_t = y_target_t.permute(1, 0)"
      ],
      "execution_count": 96,
      "outputs": []
    },
    {
      "cell_type": "code",
      "metadata": {
        "colab": {
          "base_uri": "https://localhost:8080/"
        },
        "id": "8GWicOeBFOBp",
        "outputId": "d89749b9-63ae-45d9-9fe2-615cf9ad8e51"
      },
      "source": [
        "# シーケンス長が先に来てることを確認\n",
        "y_seq_t.size()"
      ],
      "execution_count": 97,
      "outputs": [
        {
          "output_type": "execute_result",
          "data": {
            "text/plain": [
              "torch.Size([40, 450])"
            ]
          },
          "metadata": {},
          "execution_count": 97
        }
      ]
    },
    {
      "cell_type": "markdown",
      "metadata": {
        "id": "Ftnu5VyLFXUt"
      },
      "source": [
        "* 40×450という2次元のサイズになっているが実際には最後に入力次元数(インプット)である1が必要になる\n",
        "    * unsqueezeというメソッドを使って最後に1を付与する\n",
        "    * squeeze : 例えば40×450×1があったら、絞るという意味で、1が除去される\n",
        "    * unsqueeze : 例えば40×450があったら、squeezeとは逆に1が付与される\n",
        "    * どこに1を付与するかという自由度があるのでdim=-1として、最後に付与する\n"
      ]
    },
    {
      "cell_type": "code",
      "metadata": {
        "id": "j9IiKBnLFPP0"
      },
      "source": [
        "y_seq_t = y_seq_t.unsqueeze(dim=-1)\n",
        "y_target_t = y_target_t.unsqueeze(dim=-1)"
      ],
      "execution_count": 98,
      "outputs": []
    },
    {
      "cell_type": "code",
      "metadata": {
        "colab": {
          "base_uri": "https://localhost:8080/"
        },
        "id": "X61YrKlxGiVR",
        "outputId": "8fb63501-0d96-4c8e-c654-8fa93bbe317e"
      },
      "source": [
        "y_seq_t.size()"
      ],
      "execution_count": 99,
      "outputs": [
        {
          "output_type": "execute_result",
          "data": {
            "text/plain": [
              "torch.Size([40, 450, 1])"
            ]
          },
          "metadata": {},
          "execution_count": 99
        }
      ]
    },
    {
      "cell_type": "markdown",
      "metadata": {
        "id": "k5pa3WbTGc-9"
      },
      "source": [
        "### ここまででようやく入力データが完成\n",
        "\n",
        "### ここからは学習のループに入る"
      ]
    },
    {
      "cell_type": "code",
      "metadata": {
        "colab": {
          "base_uri": "https://localhost:8080/"
        },
        "id": "jgFbbm96GZCx",
        "outputId": "6e671c15-4ea8-4f84-9477-f08db7222b0b"
      },
      "source": [
        "num_epochs = 80\n",
        "losses = []\n",
        "for epoch in range(num_epochs):\n",
        "    # いつもだったらミニバッチのrunning_lossを初期化するとこから始まるが今回はバッチ学習なのでoptimizerの初期化から始める\n",
        "    optimizer.zero_grad()\n",
        "    output = model(y_seq_t)\n",
        "    loss = criterion(output, y_target_t)\n",
        "    loss.backward()\n",
        "    losses.append(loss.item())\n",
        "    # 重みの更新\n",
        "    optimizer.step()\n",
        "    # 10ステップ刻みくらいでプリントする\n",
        "    if epoch % 10 == 0:\n",
        "        print(\"epoch: {}, loss: {}\".format(epoch, loss.item()))"
      ],
      "execution_count": 100,
      "outputs": [
        {
          "output_type": "stream",
          "name": "stderr",
          "text": [
            "/usr/local/lib/python3.7/dist-packages/torch/nn/modules/loss.py:528: UserWarning: Using a target size (torch.Size([1, 450, 1])) that is different to the input size (torch.Size([450, 1])). This will likely lead to incorrect results due to broadcasting. Please ensure they have the same size.\n",
            "  return F.mse_loss(input, target, reduction=self.reduction)\n"
          ]
        },
        {
          "output_type": "stream",
          "name": "stdout",
          "text": [
            "epoch: 0, loss: 0.4957583546638489\n",
            "epoch: 10, loss: 0.3716122806072235\n",
            "epoch: 20, loss: 0.21579928696155548\n",
            "epoch: 30, loss: 0.0332786850631237\n",
            "epoch: 40, loss: 0.009124119766056538\n",
            "epoch: 50, loss: 0.005873260088264942\n",
            "epoch: 60, loss: 0.002009771764278412\n",
            "epoch: 70, loss: 0.0012172634014859796\n"
          ]
        }
      ]
    },
    {
      "cell_type": "code",
      "metadata": {
        "colab": {
          "base_uri": "https://localhost:8080/",
          "height": 282
        },
        "id": "6vgMUGHlHjrJ",
        "outputId": "a19a575f-cb4b-45cc-f640-d8dbfc15336d"
      },
      "source": [
        "# 今回はノイズも与えていない綺麗なデータなので損失がスムーズに小さくなっている\n",
        "plt.plot(losses)"
      ],
      "execution_count": 101,
      "outputs": [
        {
          "output_type": "execute_result",
          "data": {
            "text/plain": [
              "[<matplotlib.lines.Line2D at 0x7f753ce54950>]"
            ]
          },
          "metadata": {},
          "execution_count": 101
        },
        {
          "output_type": "display_data",
          "data": {
            "image/png": "[encoded data removed]",
            "text/plain": [
              "<Figure size 432x288 with 1 Axes>"
            ]
          },
          "metadata": {
            "needs_background": "light"
          }
        }
      ]
    },
    {
      "cell_type": "code",
      "metadata": {
        "id": "GhUWwwoAHu-w"
      },
      "source": [
        "# 10個のテストデータを使って予測してみる\n",
        "y_seq_test_t = torch.FloatTensor(y_seq_test)\n",
        "# 順番を入れ替える\n",
        "y_seq_test_t = y_seq_test_t.permute(1, 0)\n",
        "y_seq_test_t = y_seq_test_t.unsqueeze(dim=-1)"
      ],
      "execution_count": 102,
      "outputs": []
    },
    {
      "cell_type": "code",
      "metadata": {
        "colab": {
          "base_uri": "https://localhost:8080/"
        },
        "id": "ycIO-A3QIH5g",
        "outputId": "e5140ade-ab16-4750-b482-5f948939664b"
      },
      "source": [
        "# シーケンス長、バッチサイズ、インプットの順になっているか確認\n",
        "y_seq_test_t.size()"
      ],
      "execution_count": 103,
      "outputs": [
        {
          "output_type": "execute_result",
          "data": {
            "text/plain": [
              "torch.Size([40, 10, 1])"
            ]
          },
          "metadata": {},
          "execution_count": 103
        }
      ]
    },
    {
      "cell_type": "code",
      "metadata": {
        "id": "KUaUbT57IWpv"
      },
      "source": [
        "y_pred = model(y_seq_test_t)"
      ],
      "execution_count": 104,
      "outputs": []
    },
    {
      "cell_type": "code",
      "metadata": {
        "colab": {
          "base_uri": "https://localhost:8080/"
        },
        "id": "PoPj7OmxIgEa",
        "outputId": "13444e85-fb5c-43da-a3eb-d44cca19159d"
      },
      "source": [
        "# 10個のデータを与えているので10個に対してそれぞれ1個の値が返ってくる\n",
        "y_pred.size()"
      ],
      "execution_count": 105,
      "outputs": [
        {
          "output_type": "execute_result",
          "data": {
            "text/plain": [
              "torch.Size([10, 1])"
            ]
          },
          "metadata": {},
          "execution_count": 105
        }
      ]
    },
    {
      "cell_type": "code",
      "metadata": {
        "colab": {
          "base_uri": "https://localhost:8080/",
          "height": 282
        },
        "id": "Kd6919cTIiwK",
        "outputId": "f3cfa3e1-4409-483b-8fd8-8254461875da"
      },
      "source": [
        "# 元データ\n",
        "plt.plot(x, y)\n",
        "# 順伝播しているのでdetachが必要\n",
        "plt.plot(np.arange(490, 500),  y_pred.detach())\n",
        "# 範囲を絞る\n",
        "plt.xlim([450, 500])"
      ],
      "execution_count": 106,
      "outputs": [
        {
          "output_type": "execute_result",
          "data": {
            "text/plain": [
              "(450.0, 500.0)"
            ]
          },
          "metadata": {},
          "execution_count": 106
        },
        {
          "output_type": "display_data",
          "data": {
            "image/png": "[encoded data removed]",
            "text/plain": [
              "<Figure size 432x288 with 1 Axes>"
            ]
          },
          "metadata": {
            "needs_background": "light"
          }
        }
      ]
    },
    {
      "cell_type": "markdown",
      "metadata": {
        "id": "-JCcqrBjJaiW"
      },
      "source": [
        "予測した結果は非常によく一致(予測)していることがわかる"
      ]
    },
    {
      "cell_type": "code",
      "metadata": {
        "id": "M3pahAdTIwn9"
      },
      "source": [
        ""
      ],
      "execution_count": 106,
      "outputs": []
    }
  ]
}