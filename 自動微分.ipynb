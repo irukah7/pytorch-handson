{
  "nbformat": 4,
  "nbformat_minor": 0,
  "metadata": {
    "colab": {
      "name": "自動微分.ipynb",
      "provenance": [],
      "authorship_tag": "ABX9TyObLJx3gkSBbdI9uIvszroX",
      "include_colab_link": true
    },
    "kernelspec": {
      "name": "python3",
      "display_name": "Python 3"
    },
    "language_info": {
      "name": "python"
    }
  },
  "cells": [
    {
      "cell_type": "markdown",
      "metadata": {
        "id": "view-in-github",
        "colab_type": "text"
      },
      "source": [
        "<a href=\"https://colab.research.google.com/github/wincmoriya/pytorch-handson/blob/main/%E8%87%AA%E5%8B%95%E5%BE%AE%E5%88%86.ipynb\" target=\"_parent\"><img src=\"https://colab.research.google.com/assets/colab-badge.svg\" alt=\"Open In Colab\"/></a>"
      ]
    },
    {
      "cell_type": "markdown",
      "metadata": {
        "id": "OJVodfmkaJCE"
      },
      "source": [
        "## 自動微分\n",
        "あまり使う機会は無いが誤差逆伝播の計算をするときに、この自動微分がバックで働いているという認識を持っておく。"
      ]
    },
    {
      "cell_type": "code",
      "metadata": {
        "id": "-ziznQMEZ9aD"
      },
      "source": [
        "import torch"
      ],
      "execution_count": 1,
      "outputs": []
    },
    {
      "cell_type": "markdown",
      "metadata": {
        "id": "O_n58aAwLoIP"
      },
      "source": [
        "$y = 3 x^{3}$"
      ]
    },
    {
      "cell_type": "code",
      "metadata": {
        "id": "swAkj1H1LnbD"
      },
      "source": [
        "# yのxに対する勾配を自動微分で求める\n",
        "# 何かしらの値を入れておかなきゃいけないので2を入れておく\n",
        "# requires_grad=True→勾配計算が必要かどうか\n",
        "x = torch.tensor([2], dtype=torch.float32, requires_grad=True)"
      ],
      "execution_count": 2,
      "outputs": []
    },
    {
      "cell_type": "code",
      "metadata": {
        "id": "7-Cs9XvsMVXi"
      },
      "source": [
        "y = 3 * x ** 3"
      ],
      "execution_count": 3,
      "outputs": []
    },
    {
      "cell_type": "code",
      "metadata": {
        "id": "-eZi2PGnMYdi"
      },
      "source": [
        "# backwardして欲しい変数に対して勾配を求める\n",
        "y.backward()"
      ],
      "execution_count": 4,
      "outputs": []
    },
    {
      "cell_type": "code",
      "metadata": {
        "colab": {
          "base_uri": "https://localhost:8080/"
        },
        "id": "SrSJ7OuOMcZW",
        "outputId": "f59f59fc-b498-412e-9233-779ce05be003"
      },
      "source": [
        "x.grad"
      ],
      "execution_count": 5,
      "outputs": [
        {
          "output_type": "execute_result",
          "data": {
            "text/plain": [
              "tensor([36.])"
            ]
          },
          "metadata": {},
          "execution_count": 5
        }
      ]
    },
    {
      "cell_type": "code",
      "metadata": {
        "id": "zc1nKIywMdZa"
      },
      "source": [
        "# 試しに2つの変数がある場合\n",
        "x1 = torch.tensor([4], dtype=torch.float32, requires_grad=True)\n",
        "x2 = torch.tensor([2], dtype=torch.float32, requires_grad=True)"
      ],
      "execution_count": 6,
      "outputs": []
    },
    {
      "cell_type": "code",
      "metadata": {
        "id": "qSbjR_sVM6_h"
      },
      "source": [
        "y = 2 * x1 ** 2 + 3 * x2 ** 3"
      ],
      "execution_count": 7,
      "outputs": []
    },
    {
      "cell_type": "code",
      "metadata": {
        "id": "pCHRTIBeM_Pb"
      },
      "source": [
        "y.backward()"
      ],
      "execution_count": 8,
      "outputs": []
    },
    {
      "cell_type": "code",
      "metadata": {
        "colab": {
          "base_uri": "https://localhost:8080/"
        },
        "id": "HBYcvj48NAba",
        "outputId": "80982e33-05c0-4e10-a9b9-257bb5626318"
      },
      "source": [
        "x1.grad"
      ],
      "execution_count": 9,
      "outputs": [
        {
          "output_type": "execute_result",
          "data": {
            "text/plain": [
              "tensor([16.])"
            ]
          },
          "metadata": {},
          "execution_count": 9
        }
      ]
    },
    {
      "cell_type": "code",
      "metadata": {
        "colab": {
          "base_uri": "https://localhost:8080/"
        },
        "id": "YXxnpcfrNBSR",
        "outputId": "19e298a7-cd98-4053-8067-46fccc25b8aa"
      },
      "source": [
        "x2.grad"
      ],
      "execution_count": 10,
      "outputs": [
        {
          "output_type": "execute_result",
          "data": {
            "text/plain": [
              "tensor([36.])"
            ]
          },
          "metadata": {},
          "execution_count": 10
        }
      ]
    },
    {
      "cell_type": "code",
      "metadata": {
        "id": "xMfcIElXNEEk"
      },
      "source": [
        ""
      ],
      "execution_count": null,
      "outputs": []
    }
  ]
}