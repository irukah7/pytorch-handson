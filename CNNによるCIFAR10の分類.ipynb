{
  "nbformat": 4,
  "nbformat_minor": 0,
  "metadata": {
    "colab": {
      "name": "CNNによるCIFAR10の分類.ipynb",
      "provenance": [],
      "collapsed_sections": [],
      "authorship_tag": "ABX9TyOOH8LDTX7SrSyclzbMNcyX",
      "include_colab_link": true
    },
    "kernelspec": {
      "name": "python3",
      "display_name": "Python 3"
    },
    "language_info": {
      "name": "python"
    },
    "accelerator": "GPU",
    "widgets": {
      "application/vnd.jupyter.widget-state+json": {
        "197e1e595de7492cb33b121de8728bd7": {
          "model_module": "@jupyter-widgets/controls",
          "model_name": "HBoxModel",
          "model_module_version": "1.5.0",
          "state": {
            "_view_name": "HBoxView",
            "_dom_classes": [],
            "_model_name": "HBoxModel",
            "_view_module": "@jupyter-widgets/controls",
            "_model_module_version": "1.5.0",
            "_view_count": null,
            "_view_module_version": "1.5.0",
            "box_style": "",
            "layout": "IPY_MODEL_0bd5b1a5ac424c339a365b5fdbd686e5",
            "_model_module": "@jupyter-widgets/controls",
            "children": [
              "IPY_MODEL_8036dec008b847bd9cf167a2d057f038",
              "IPY_MODEL_7b19448cd1f245c69891be5f37bdec72",
              "IPY_MODEL_c5d54606fdc44d54bc7463a2b47c2357"
            ]
          }
        },
        "0bd5b1a5ac424c339a365b5fdbd686e5": {
          "model_module": "@jupyter-widgets/base",
          "model_name": "LayoutModel",
          "model_module_version": "1.2.0",
          "state": {
            "_view_name": "LayoutView",
            "grid_template_rows": null,
            "right": null,
            "justify_content": null,
            "_view_module": "@jupyter-widgets/base",
            "overflow": null,
            "_model_module_version": "1.2.0",
            "_view_count": null,
            "flex_flow": null,
            "width": null,
            "min_width": null,
            "border": null,
            "align_items": null,
            "bottom": null,
            "_model_module": "@jupyter-widgets/base",
            "top": null,
            "grid_column": null,
            "overflow_y": null,
            "overflow_x": null,
            "grid_auto_flow": null,
            "grid_area": null,
            "grid_template_columns": null,
            "flex": null,
            "_model_name": "LayoutModel",
            "justify_items": null,
            "grid_row": null,
            "max_height": null,
            "align_content": null,
            "visibility": null,
            "align_self": null,
            "height": null,
            "min_height": null,
            "padding": null,
            "grid_auto_rows": null,
            "grid_gap": null,
            "max_width": null,
            "order": null,
            "_view_module_version": "1.2.0",
            "grid_template_areas": null,
            "object_position": null,
            "object_fit": null,
            "grid_auto_columns": null,
            "margin": null,
            "display": null,
            "left": null
          }
        },
        "8036dec008b847bd9cf167a2d057f038": {
          "model_module": "@jupyter-widgets/controls",
          "model_name": "HTMLModel",
          "model_module_version": "1.5.0",
          "state": {
            "_view_name": "HTMLView",
            "style": "IPY_MODEL_ffe8bef46cda426fb900b7f718ba93b6",
            "_dom_classes": [],
            "description": "",
            "_model_name": "HTMLModel",
            "placeholder": "​",
            "_view_module": "@jupyter-widgets/controls",
            "_model_module_version": "1.5.0",
            "value": "",
            "_view_count": null,
            "_view_module_version": "1.5.0",
            "description_tooltip": null,
            "_model_module": "@jupyter-widgets/controls",
            "layout": "IPY_MODEL_e3b3e7e207914cb78d85782d4c50cb58"
          }
        },
        "7b19448cd1f245c69891be5f37bdec72": {
          "model_module": "@jupyter-widgets/controls",
          "model_name": "FloatProgressModel",
          "model_module_version": "1.5.0",
          "state": {
            "_view_name": "ProgressView",
            "style": "IPY_MODEL_57ab21f03e8d458eabe2aaf9e709c23e",
            "_dom_classes": [],
            "description": "",
            "_model_name": "FloatProgressModel",
            "bar_style": "success",
            "max": 170498071,
            "_view_module": "@jupyter-widgets/controls",
            "_model_module_version": "1.5.0",
            "value": 170498071,
            "_view_count": null,
            "_view_module_version": "1.5.0",
            "orientation": "horizontal",
            "min": 0,
            "description_tooltip": null,
            "_model_module": "@jupyter-widgets/controls",
            "layout": "IPY_MODEL_90dee824aa254f079243e6275987ab80"
          }
        },
        "c5d54606fdc44d54bc7463a2b47c2357": {
          "model_module": "@jupyter-widgets/controls",
          "model_name": "HTMLModel",
          "model_module_version": "1.5.0",
          "state": {
            "_view_name": "HTMLView",
            "style": "IPY_MODEL_fcb75aacc957437280157d94d93cea25",
            "_dom_classes": [],
            "description": "",
            "_model_name": "HTMLModel",
            "placeholder": "​",
            "_view_module": "@jupyter-widgets/controls",
            "_model_module_version": "1.5.0",
            "value": " 170499072/? [00:12&lt;00:00, 17977884.58it/s]",
            "_view_count": null,
            "_view_module_version": "1.5.0",
            "description_tooltip": null,
            "_model_module": "@jupyter-widgets/controls",
            "layout": "IPY_MODEL_4875a05792154a9fa1bb96053e6c7f9a"
          }
        },
        "ffe8bef46cda426fb900b7f718ba93b6": {
          "model_module": "@jupyter-widgets/controls",
          "model_name": "DescriptionStyleModel",
          "model_module_version": "1.5.0",
          "state": {
            "_view_name": "StyleView",
            "_model_name": "DescriptionStyleModel",
            "description_width": "",
            "_view_module": "@jupyter-widgets/base",
            "_model_module_version": "1.5.0",
            "_view_count": null,
            "_view_module_version": "1.2.0",
            "_model_module": "@jupyter-widgets/controls"
          }
        },
        "e3b3e7e207914cb78d85782d4c50cb58": {
          "model_module": "@jupyter-widgets/base",
          "model_name": "LayoutModel",
          "model_module_version": "1.2.0",
          "state": {
            "_view_name": "LayoutView",
            "grid_template_rows": null,
            "right": null,
            "justify_content": null,
            "_view_module": "@jupyter-widgets/base",
            "overflow": null,
            "_model_module_version": "1.2.0",
            "_view_count": null,
            "flex_flow": null,
            "width": null,
            "min_width": null,
            "border": null,
            "align_items": null,
            "bottom": null,
            "_model_module": "@jupyter-widgets/base",
            "top": null,
            "grid_column": null,
            "overflow_y": null,
            "overflow_x": null,
            "grid_auto_flow": null,
            "grid_area": null,
            "grid_template_columns": null,
            "flex": null,
            "_model_name": "LayoutModel",
            "justify_items": null,
            "grid_row": null,
            "max_height": null,
            "align_content": null,
            "visibility": null,
            "align_self": null,
            "height": null,
            "min_height": null,
            "padding": null,
            "grid_auto_rows": null,
            "grid_gap": null,
            "max_width": null,
            "order": null,
            "_view_module_version": "1.2.0",
            "grid_template_areas": null,
            "object_position": null,
            "object_fit": null,
            "grid_auto_columns": null,
            "margin": null,
            "display": null,
            "left": null
          }
        },
        "57ab21f03e8d458eabe2aaf9e709c23e": {
          "model_module": "@jupyter-widgets/controls",
          "model_name": "ProgressStyleModel",
          "model_module_version": "1.5.0",
          "state": {
            "_view_name": "StyleView",
            "_model_name": "ProgressStyleModel",
            "description_width": "",
            "_view_module": "@jupyter-widgets/base",
            "_model_module_version": "1.5.0",
            "_view_count": null,
            "_view_module_version": "1.2.0",
            "bar_color": null,
            "_model_module": "@jupyter-widgets/controls"
          }
        },
        "90dee824aa254f079243e6275987ab80": {
          "model_module": "@jupyter-widgets/base",
          "model_name": "LayoutModel",
          "model_module_version": "1.2.0",
          "state": {
            "_view_name": "LayoutView",
            "grid_template_rows": null,
            "right": null,
            "justify_content": null,
            "_view_module": "@jupyter-widgets/base",
            "overflow": null,
            "_model_module_version": "1.2.0",
            "_view_count": null,
            "flex_flow": null,
            "width": null,
            "min_width": null,
            "border": null,
            "align_items": null,
            "bottom": null,
            "_model_module": "@jupyter-widgets/base",
            "top": null,
            "grid_column": null,
            "overflow_y": null,
            "overflow_x": null,
            "grid_auto_flow": null,
            "grid_area": null,
            "grid_template_columns": null,
            "flex": null,
            "_model_name": "LayoutModel",
            "justify_items": null,
            "grid_row": null,
            "max_height": null,
            "align_content": null,
            "visibility": null,
            "align_self": null,
            "height": null,
            "min_height": null,
            "padding": null,
            "grid_auto_rows": null,
            "grid_gap": null,
            "max_width": null,
            "order": null,
            "_view_module_version": "1.2.0",
            "grid_template_areas": null,
            "object_position": null,
            "object_fit": null,
            "grid_auto_columns": null,
            "margin": null,
            "display": null,
            "left": null
          }
        },
        "fcb75aacc957437280157d94d93cea25": {
          "model_module": "@jupyter-widgets/controls",
          "model_name": "DescriptionStyleModel",
          "model_module_version": "1.5.0",
          "state": {
            "_view_name": "StyleView",
            "_model_name": "DescriptionStyleModel",
            "description_width": "",
            "_view_module": "@jupyter-widgets/base",
            "_model_module_version": "1.5.0",
            "_view_count": null,
            "_view_module_version": "1.2.0",
            "_model_module": "@jupyter-widgets/controls"
          }
        },
        "4875a05792154a9fa1bb96053e6c7f9a": {
          "model_module": "@jupyter-widgets/base",
          "model_name": "LayoutModel",
          "model_module_version": "1.2.0",
          "state": {
            "_view_name": "LayoutView",
            "grid_template_rows": null,
            "right": null,
            "justify_content": null,
            "_view_module": "@jupyter-widgets/base",
            "overflow": null,
            "_model_module_version": "1.2.0",
            "_view_count": null,
            "flex_flow": null,
            "width": null,
            "min_width": null,
            "border": null,
            "align_items": null,
            "bottom": null,
            "_model_module": "@jupyter-widgets/base",
            "top": null,
            "grid_column": null,
            "overflow_y": null,
            "overflow_x": null,
            "grid_auto_flow": null,
            "grid_area": null,
            "grid_template_columns": null,
            "flex": null,
            "_model_name": "LayoutModel",
            "justify_items": null,
            "grid_row": null,
            "max_height": null,
            "align_content": null,
            "visibility": null,
            "align_self": null,
            "height": null,
            "min_height": null,
            "padding": null,
            "grid_auto_rows": null,
            "grid_gap": null,
            "max_width": null,
            "order": null,
            "_view_module_version": "1.2.0",
            "grid_template_areas": null,
            "object_position": null,
            "object_fit": null,
            "grid_auto_columns": null,
            "margin": null,
            "display": null,
            "left": null
          }
        }
      }
    }
  },
  "cells": [
    {
      "cell_type": "markdown",
      "metadata": {
        "id": "view-in-github",
        "colab_type": "text"
      },
      "source": [
        "<a href=\"https://colab.research.google.com/github/wincmoriya/pytorch-handson/blob/main/CNN%E3%81%AB%E3%82%88%E3%82%8BCIFAR10%E3%81%AE%E5%88%86%E9%A1%9E.ipynb\" target=\"_parent\"><img src=\"https://colab.research.google.com/assets/colab-badge.svg\" alt=\"Open In Colab\"/></a>"
      ]
    },
    {
      "cell_type": "code",
      "metadata": {
        "id": "EYtyEXY2xTh6"
      },
      "source": [
        "import torch\n",
        "import torchvision\n",
        "import torch.nn as nn\n",
        "import torch.optim as optim\n",
        "import numpy as np\n",
        "from torchvision import datasets, transforms\n",
        "import matplotlib.pyplot as plt\n",
        "from torch.utils.data import DataLoader"
      ],
      "execution_count": 1,
      "outputs": []
    },
    {
      "cell_type": "code",
      "metadata": {
        "id": "XRa379Pp4fnE"
      },
      "source": [
        "device = \"cuda\" if torch.cuda.is_available() else \"cpu\""
      ],
      "execution_count": 2,
      "outputs": []
    },
    {
      "cell_type": "code",
      "metadata": {
        "colab": {
          "base_uri": "https://localhost:8080/",
          "height": 35
        },
        "id": "3ae6CI6i4qAC",
        "outputId": "6a91dd7b-8a43-4c4c-ab98-611bdc5fff55"
      },
      "source": [
        "device"
      ],
      "execution_count": 3,
      "outputs": [
        {
          "output_type": "execute_result",
          "data": {
            "application/vnd.google.colaboratory.intrinsic+json": {
              "type": "string"
            },
            "text/plain": [
              "'cuda'"
            ]
          },
          "metadata": {},
          "execution_count": 3
        }
      ]
    },
    {
      "cell_type": "markdown",
      "metadata": {
        "id": "LJRtBEXM4uU8"
      },
      "source": [
        "## 前処理"
      ]
    },
    {
      "cell_type": "code",
      "metadata": {
        "colab": {
          "base_uri": "https://localhost:8080/",
          "height": 100,
          "referenced_widgets": [
            "197e1e595de7492cb33b121de8728bd7",
            "0bd5b1a5ac424c339a365b5fdbd686e5",
            "8036dec008b847bd9cf167a2d057f038",
            "7b19448cd1f245c69891be5f37bdec72",
            "c5d54606fdc44d54bc7463a2b47c2357",
            "ffe8bef46cda426fb900b7f718ba93b6",
            "e3b3e7e207914cb78d85782d4c50cb58",
            "57ab21f03e8d458eabe2aaf9e709c23e",
            "90dee824aa254f079243e6275987ab80",
            "fcb75aacc957437280157d94d93cea25",
            "4875a05792154a9fa1bb96053e6c7f9a"
          ]
        },
        "id": "Dk453NSR4q_k",
        "outputId": "54619e10-1e36-4f7b-a615-4ca4236f9235"
      },
      "source": [
        "transform = transforms.Compose([\n",
        "                                # 画像をTensorクラスに変える、チャネルファーストに変換する\n",
        "                                transforms.ToTensor(),\n",
        "                                # RGBのチャネルごとに画像全体の平均値0.5, 標準偏差0.5になるように正規化\n",
        "                                transforms.Normalize((0.5,), (0.5,))\n",
        "])\n",
        "\n",
        "# 学習用データセット\n",
        "train_dataset = datasets.CIFAR10(root=\"./data\", train=True, download=True, transform=transform)\n",
        "# 検証用のデータセット, 学習済みでない画像1万枚使用\n",
        "validation_dataset = datasets.CIFAR10(root=\"./data\", train=False, download=True, transform=transform)"
      ],
      "execution_count": 6,
      "outputs": [
        {
          "output_type": "stream",
          "name": "stdout",
          "text": [
            "Downloading https://www.cs.toronto.edu/~kriz/cifar-10-python.tar.gz to ./data/cifar-10-python.tar.gz\n"
          ]
        },
        {
          "output_type": "display_data",
          "data": {
            "application/vnd.jupyter.widget-view+json": {
              "model_id": "197e1e595de7492cb33b121de8728bd7",
              "version_minor": 0,
              "version_major": 2
            },
            "text/plain": [
              "  0%|          | 0/170498071 [00:00<?, ?it/s]"
            ]
          },
          "metadata": {}
        },
        {
          "output_type": "stream",
          "name": "stdout",
          "text": [
            "Extracting ./data/cifar-10-python.tar.gz to ./data\n",
            "Files already downloaded and verified\n"
          ]
        }
      ]
    },
    {
      "cell_type": "code",
      "metadata": {
        "id": "QHfeS9oz4uMg"
      },
      "source": [
        "# CIFAR10で扱われる10個の分類を定義しておく\n",
        "names = (\"plane\", \"car\", \"bird\", \"cat\", \"deer\", \"dog\", \"frog\", \"horse\", \"ship\", \"truck\")"
      ],
      "execution_count": 8,
      "outputs": []
    },
    {
      "cell_type": "code",
      "metadata": {
        "id": "1ja2B8tv6E-O"
      },
      "source": [
        "# datasetをdataLoaderに与える\n",
        "# batch_size　＝ ミニバッチ, 学習時には読み込みをランダムに「するためにshuffleする\n",
        "train_dataloader = DataLoader(train_dataset, batch_size=32, shuffle=True)\n",
        "# 同様に検証データローダーも作成, 検証時にシャッフルする必要がないのでFalse\n",
        "validation_dataloader = DataLoader(validation_dataset, batch_size=32, shuffle=True)"
      ],
      "execution_count": 9,
      "outputs": []
    },
    {
      "cell_type": "markdown",
      "metadata": {
        "id": "hjUtA-eo9V-F"
      },
      "source": [
        "### iterを使って要素取得\n",
        "iter()はリストやタプルなど複数の要素を持つデータに対して、イテレータに変換することで要素を最初から順番に取り出すことができる機能"
      ]
    },
    {
      "cell_type": "code",
      "metadata": {
        "id": "xF5CLLU36zh3"
      },
      "source": [
        "# data_loaderから画像とラベルを取得してみる\n",
        "data_iter = iter(train_dataloader)"
      ],
      "execution_count": 10,
      "outputs": []
    },
    {
      "cell_type": "code",
      "metadata": {
        "id": "EwqGYRX19ArG"
      },
      "source": [
        "# 1つだけ取得する\n",
        "imgs, labels = data_iter.next()"
      ],
      "execution_count": 11,
      "outputs": []
    },
    {
      "cell_type": "code",
      "metadata": {
        "colab": {
          "base_uri": "https://localhost:8080/"
        },
        "id": "2YfPoPQu9DeW",
        "outputId": "47a7e67e-3733-4227-acbd-308c614331e2"
      },
      "source": [
        "# 最初の画像を見るとラベル番号6(カエル)であることがわかる\n",
        "labels"
      ],
      "execution_count": 14,
      "outputs": [
        {
          "output_type": "execute_result",
          "data": {
            "text/plain": [
              "tensor([6, 3, 1, 1, 2, 7, 3, 2, 2, 6, 5, 1, 9, 5, 8, 5, 6, 3, 0, 1, 8, 2, 9, 4,\n",
              "        5, 4, 5, 8, 0, 9, 5, 0])"
            ]
          },
          "metadata": {},
          "execution_count": 14
        }
      ]
    },
    {
      "cell_type": "code",
      "metadata": {
        "colab": {
          "base_uri": "https://localhost:8080/"
        },
        "id": "_hQT4Z8S9ELT",
        "outputId": "844a8a53-9266-4ab1-e6d8-c92731d3bd33"
      },
      "source": [
        "# 画像のサイズを確認\n",
        "# torch.Size([ミニバッチ数, チャネル, 高さ, 横])->チャネルファーストになっている\n",
        "imgs.size()"
      ],
      "execution_count": 16,
      "outputs": [
        {
          "output_type": "execute_result",
          "data": {
            "text/plain": [
              "torch.Size([32, 3, 32, 32])"
            ]
          },
          "metadata": {},
          "execution_count": 16
        }
      ]
    },
    {
      "cell_type": "code",
      "metadata": {
        "id": "qdkk6229-LNP"
      },
      "source": [
        "img = imgs[0]"
      ],
      "execution_count": 17,
      "outputs": []
    },
    {
      "cell_type": "code",
      "metadata": {
        "id": "oWZlRg6c-bmC"
      },
      "source": [
        "# Tensor -> 画像にするためにチャネルラストにする\n",
        "img_permute = img.permute(1, 2, 0)"
      ],
      "execution_count": 18,
      "outputs": []
    },
    {
      "cell_type": "code",
      "metadata": {
        "id": "FHfRXX1I-7XD"
      },
      "source": [
        "# 画像の明るさを調整する\n",
        "img_permute = 0.5 * img_permute + 0.5"
      ],
      "execution_count": 19,
      "outputs": []
    },
    {
      "cell_type": "markdown",
      "metadata": {
        "id": "TaM9avTF_gCs"
      },
      "source": [
        "## np.clip()\n",
        "配列内の値をクリップ(制限)する。<br>\n",
        "たとえば、 [0, 1] 間隔が指定されている場合、0より小さい値は0になり、1より大きい値は1になる。"
      ]
    },
    {
      "cell_type": "code",
      "metadata": {
        "id": "aUBm0kcC_INT"
      },
      "source": [
        "# 0から1の値にクリップする\n",
        "img_permute = np.clip(img_permute, 0, 1)"
      ],
      "execution_count": 20,
      "outputs": []
    },
    {
      "cell_type": "code",
      "metadata": {
        "colab": {
          "base_uri": "https://localhost:8080/",
          "height": 283
        },
        "id": "krlAUYPO_vNm",
        "outputId": "9d3c83f4-86df-46ae-cfc8-5adc5c6e7a3d"
      },
      "source": [
        "# ラベル番号6のカエルが表示されている\n",
        "plt.imshow(img_permute)"
      ],
      "execution_count": 22,
      "outputs": [
        {
          "output_type": "execute_result",
          "data": {
            "text/plain": [
              "<matplotlib.image.AxesImage at 0x7f332f829190>"
            ]
          },
          "metadata": {},
          "execution_count": 22
        },
        {
          "output_type": "display_data",
          "data": {
            "image/png": "[encoded data removed]",
            "text/plain": [
              "<Figure size 432x288 with 1 Axes>"
            ]
          },
          "metadata": {
            "needs_background": "light"
          }
        }
      ]
    },
    {
      "cell_type": "markdown",
      "metadata": {
        "id": "OOrIAlmq_6Zd"
      },
      "source": [
        "## CNNのクラス定義"
      ]
    },
    {
      "cell_type": "code",
      "metadata": {
        "id": "T3atg2hY_0FN"
      },
      "source": [
        "class CNN(nn.Module):\n",
        "    # num_classesは今回は10\n",
        "    def __init__(self, num_classes):\n",
        "        # 最初は32×32の画像\n",
        "        super().__init__()\n",
        "        self.features = nn.Sequential(\n",
        "            # 1層目 32×32\n",
        "            nn.Conv2d(in_channels=3, out_channels=64, kernel_size=5, padding=2),\n",
        "            nn.ReLU(inplace=True),\n",
        "            nn.MaxPool2d(kernel_size=2),\n",
        "            # 2層目 16×16\n",
        "            nn.Conv2d(in_channels=64, out_channels=128, kernel_size=3, padding=1),\n",
        "            nn.ReLU(inplace=True),\n",
        "            nn.MaxPool2d(kernel_size=2),\n",
        "            # 3層目 8×8\n",
        "            nn.Conv2d(in_channels=128, out_channels=256, kernel_size=3, padding=1),\n",
        "            nn.ReLU(inplace=True),\n",
        "            nn.MaxPool2d(kernel_size=2),\n",
        "            # 4層目 4×4\n",
        "            nn.Conv2d(in_channels=256, out_channels=128, kernel_size=3, padding=1),\n",
        "            nn.ReLU(inplace=True),\n",
        "        )\n",
        "        # VGG16でも全結合層があったようにここでも設ける\n",
        "        # 1次元のベクトルで渡す必要がある\n",
        "        # 4層目が現在4×4×128になっているので\n",
        "        self.classifier = nn.Linear(in_features=4*4*128, out_features=num_classes)\n",
        "    def forward(self, x):\n",
        "        x = self.features(x)\n",
        "        # 出力は4*4*128のチャネルを持った画像\n",
        "        # このままだとclassifierに入力できないので1次元にベクトル化をする\n",
        "        # size(0)はバッチ数で32、第二引数を-1にすることで残りを自動で押し込む\n",
        "        # つまりC*H*W -> 4*4*128のベクトルになる\n",
        "        x = x.view(x.size(0), -1)\n",
        "        x = self.classifier(x)\n",
        "        return x"
      ],
      "execution_count": 24,
      "outputs": []
    },
    {
      "cell_type": "markdown",
      "metadata": {
        "id": "VckVCR8LBL1M"
      },
      "source": [
        "#### Conv2d(畳み込み)\n",
        "* 第1引数はその入力のチャネル数 -> 今回はRGBの3\n",
        "* 第2引数は畳み込み後のチャネル数 -> 今回は64\n",
        "* 第3引数は畳み込みをするための正方形フィルタ(カーネルとも言う)の1辺のサイズ\n",
        "* ※2マスずつ収縮しちゃうのでpaddingを与えるときに2を設定する\n",
        "    * そうすると画像が縮まない\n",
        "\n",
        "#### MaxPooling\n",
        "「nn.MaxPool2d(2, stride=2)」はpooling用でこのパラメータの場合データサイズが半分になるような処理をする(サイズの小数点以下は切り下げられる).\n",
        "32×32の画像が16×16の半分になる"
      ]
    },
    {
      "cell_type": "markdown",
      "metadata": {
        "id": "LzdKbFruL-II"
      },
      "source": [
        "## モデルの作成"
      ]
    },
    {
      "cell_type": "code",
      "metadata": {
        "colab": {
          "base_uri": "https://localhost:8080/"
        },
        "id": "Y_WT3bWtBfV1",
        "outputId": "075a770a-82f3-41a4-ebaf-cdad28e00d69"
      },
      "source": [
        "model = CNN(10)\n",
        "# GPUに送る\n",
        "model.to(device)"
      ],
      "execution_count": 27,
      "outputs": [
        {
          "output_type": "execute_result",
          "data": {
            "text/plain": [
              "CNN(\n",
              "  (features): Sequential(\n",
              "    (0): Conv2d(3, 64, kernel_size=(5, 5), stride=(1, 1), padding=(2, 2))\n",
              "    (1): ReLU(inplace=True)\n",
              "    (2): MaxPool2d(kernel_size=2, stride=2, padding=0, dilation=1, ceil_mode=False)\n",
              "    (3): Conv2d(64, 128, kernel_size=(3, 3), stride=(1, 1), padding=(1, 1))\n",
              "    (4): ReLU(inplace=True)\n",
              "    (5): MaxPool2d(kernel_size=2, stride=2, padding=0, dilation=1, ceil_mode=False)\n",
              "    (6): Conv2d(128, 256, kernel_size=(3, 3), stride=(1, 1), padding=(1, 1))\n",
              "    (7): ReLU(inplace=True)\n",
              "    (8): MaxPool2d(kernel_size=2, stride=2, padding=0, dilation=1, ceil_mode=False)\n",
              "    (9): Conv2d(256, 128, kernel_size=(3, 3), stride=(1, 1), padding=(1, 1))\n",
              "    (10): ReLU(inplace=True)\n",
              "  )\n",
              "  (classifier): Linear(in_features=2048, out_features=10, bias=True)\n",
              ")"
            ]
          },
          "metadata": {},
          "execution_count": 27
        }
      ]
    },
    {
      "cell_type": "code",
      "metadata": {
        "id": "81dCRv45MENE"
      },
      "source": [
        "# 損失関数とオプティマイザを設定する\n",
        "criterion = nn.CrossEntropyLoss()\n",
        "# weight_decay：重みが大きくなりすぎないようにL2正則化する\n",
        "optimizer = optim.Adam(model.parameters(), lr=0.001, weight_decay=5e-4)"
      ],
      "execution_count": 31,
      "outputs": []
    },
    {
      "cell_type": "code",
      "metadata": {
        "colab": {
          "base_uri": "https://localhost:8080/"
        },
        "id": "b7TB1OshMjyY",
        "outputId": "94505e24-97e3-4959-c3de-96468c3f2e4d"
      },
      "source": [
        "# 学習のループを描いていく\n",
        "num_epochs = 15\n",
        "losses = []\n",
        "accs = []\n",
        "val_losses = []\n",
        "val_accs = []\n",
        "for epoch in range(num_epochs):\n",
        "    #\n",
        "    # 学習trainのループ\n",
        "    #\n",
        "    running_loss = 0.0\n",
        "    running_acc = 0.0\n",
        "    for imgs, labels in train_dataloader:\n",
        "        imgs = imgs.to(device)\n",
        "        labels = labels.to(device)\n",
        "        optimizer.zero_grad()\n",
        "        # outputでモデルの予測値を出す\n",
        "        output = model(imgs)\n",
        "        loss = criterion(output, labels)\n",
        "        # 誤差逆伝播\n",
        "        loss.backward()\n",
        "        running_loss += loss.item()\n",
        "        pred = torch.argmax(output, dim=1)\n",
        "        running_acc += torch.mean(pred.eq(labels).float())\n",
        "        # 重みの更新\n",
        "        optimizer.step()\n",
        "    running_loss /= len(train_dataloader)\n",
        "    running_acc /= len(train_dataloader)\n",
        "    losses.append(running_loss)\n",
        "    accs.append(running_acc)\n",
        "\n",
        "    # 検証validationのループ\n",
        "    val_running_loss = 0\n",
        "    val_running_acc = 0\n",
        "    for val_imgs, val_labels in validation_dataloader:\n",
        "        val_imgs = val_imgs.to(device)\n",
        "        val_labels = val_labels.to(device)\n",
        "        val_output = model(val_imgs)\n",
        "        val_loss = criterion(val_output, val_labels)\n",
        "        val_running_loss += val_loss.item()\n",
        "        val_pred = torch.argmax(val_output, dim=1)\n",
        "        val_running_acc += torch.mean(val_pred.eq(val_labels).float())\n",
        "    val_running_loss /= len(validation_dataloader)\n",
        "    val_running_acc /= len(validation_dataloader)\n",
        "    val_losses.append(val_running_loss)\n",
        "    val_accs.append(val_running_acc)\n",
        "\n",
        "    print(\"epoch: {}, loss: {}, acc: {}, \\\n",
        "        val loss: {}, val acc: {}\".format(epoch, running_loss, running_acc, val_running_loss, val_running_acc))"
      ],
      "execution_count": 34,
      "outputs": [
        {
          "output_type": "stream",
          "name": "stdout",
          "text": [
            "epoch: 0, loss: 0.7459864753297866, acc: 0.7381237745285034,         val loss: 0.7946126963764715, val acc: 0.7241413593292236\n",
            "epoch: 1, loss: 0.6326755042821264, acc: 0.7793106436729431,         val loss: 0.8137038385334868, val acc: 0.7220447063446045\n",
            "epoch: 2, loss: 0.552127075935127, acc: 0.8075215816497803,         val loss: 0.7307430228676659, val acc: 0.7522963285446167\n",
            "epoch: 3, loss: 0.4913023362271082, acc: 0.829314649105072,         val loss: 0.7354019251399146, val acc: 0.7594848275184631\n",
            "epoch: 4, loss: 0.4363166981270049, acc: 0.845149576663971,         val loss: 0.735182000330081, val acc: 0.7622803449630737\n",
            "epoch: 5, loss: 0.39327377119767154, acc: 0.8631637692451477,         val loss: 0.724114790035132, val acc: 0.7606828808784485\n",
            "epoch: 6, loss: 0.3525813831039064, acc: 0.8748200535774231,         val loss: 0.7570352822827836, val acc: 0.763877809047699\n",
            "epoch: 7, loss: 0.32097979285352063, acc: 0.8860964775085449,         val loss: 0.767653460795887, val acc: 0.7627795338630676\n",
            "epoch: 8, loss: 0.2892492855359787, acc: 0.8977727293968201,         val loss: 0.785877024213346, val acc: 0.7600838541984558\n",
            "epoch: 9, loss: 0.27221451114722534, acc: 0.9043706059455872,         val loss: 0.8207591873483536, val acc: 0.7684704065322876\n",
            "epoch: 10, loss: 0.26061437654375114, acc: 0.9081094264984131,         val loss: 0.8598243871245521, val acc: 0.7589856386184692\n",
            "epoch: 11, loss: 0.24118790399314155, acc: 0.9147672653198242,         val loss: 0.84380010455942, val acc: 0.7607827186584473\n",
            "epoch: 12, loss: 0.2291526902807842, acc: 0.9183861017227173,         val loss: 0.8410253447179977, val acc: 0.7697683572769165\n",
            "epoch: 13, loss: 0.22008129718021674, acc: 0.9218649864196777,         val loss: 0.8718434048536867, val acc: 0.7549920082092285\n",
            "epoch: 14, loss: 0.2056113866289514, acc: 0.9256637692451477,         val loss: 0.9484100524133767, val acc: 0.7593849897384644\n"
          ]
        }
      ]
    },
    {
      "cell_type": "markdown",
      "metadata": {
        "id": "gC9zTME6QZFJ"
      },
      "source": [
        "# まとめ\n",
        "* 学習大体10分くらいかかる\n",
        "* 訓練データ\n",
        "    * 損失関数が順調に下がってきている\n",
        "    * 精度も92%くらいまで上がっている\n",
        "* 検証データ\n",
        "    * 損失関数が途中まで良かったが後半上がってきている\n",
        "    * それに伴って精度が低くなっている\n",
        "    * 過学習してしまっている\n",
        "\n",
        "* 過学習を抑えるための手段としてデータ拡張がある"
      ]
    },
    {
      "cell_type": "code",
      "metadata": {
        "colab": {
          "base_uri": "https://localhost:8080/",
          "height": 282
        },
        "id": "nQAH09xGP9Vb",
        "outputId": "276b2b92-87aa-4119-b971-9c571cff226a"
      },
      "source": [
        "# グラフを見てみる\n",
        "plt.style.use(\"ggplot\")\n",
        "plt.plot(losses, label=\"train loss\")\n",
        "plt.plot(val_losses, label=\"validation loss\")\n",
        "plt.legend()"
      ],
      "execution_count": 35,
      "outputs": [
        {
          "output_type": "execute_result",
          "data": {
            "text/plain": [
              "<matplotlib.legend.Legend at 0x7f332e8ea890>"
            ]
          },
          "metadata": {},
          "execution_count": 35
        },
        {
          "output_type": "display_data",
          "data": {
            "image/png": "[encoded data removed]",
            "text/plain": [
              "<Figure size 432x288 with 1 Axes>"
            ]
          },
          "metadata": {}
        }
      ]
    },
    {
      "cell_type": "code",
      "metadata": {
        "colab": {
          "base_uri": "https://localhost:8080/",
          "height": 282
        },
        "id": "JCuNLCfbRS_m",
        "outputId": "52abaed5-93a0-4ecd-c1a9-ad90a44ecc5e"
      },
      "source": [
        "plt.plot(accs, label=\"train acc\")\n",
        "plt.plot(val_accs, label=\"validation acc\")\n",
        "plt.legend()"
      ],
      "execution_count": 36,
      "outputs": [
        {
          "output_type": "execute_result",
          "data": {
            "text/plain": [
              "<matplotlib.legend.Legend at 0x7f332ea2e450>"
            ]
          },
          "metadata": {},
          "execution_count": 36
        },
        {
          "output_type": "display_data",
          "data": {
            "image/png": "[encoded data removed]",
            "text/plain": [
              "<Figure size 432x288 with 1 Axes>"
            ]
          },
          "metadata": {}
        }
      ]
    },
    {
      "cell_type": "code",
      "metadata": {
        "id": "rr26bS1xd7Dg"
      },
      "source": [
        ""
      ],
      "execution_count": null,
      "outputs": []
    }
  ]
}