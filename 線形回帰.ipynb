{
  "nbformat": 4,
  "nbformat_minor": 0,
  "metadata": {
    "colab": {
      "name": "線形回帰.ipynb",
      "provenance": [],
      "collapsed_sections": [],
      "authorship_tag": "ABX9TyMyCdxN7ABHU2OOwhbh3GTW",
      "include_colab_link": true
    },
    "kernelspec": {
      "name": "python3",
      "display_name": "Python 3"
    },
    "language_info": {
      "name": "python"
    }
  },
  "cells": [
    {
      "cell_type": "markdown",
      "metadata": {
        "id": "view-in-github",
        "colab_type": "text"
      },
      "source": [
        "<a href=\"https://colab.research.google.com/github/wincmoriya/pytorch-handson/blob/main/%E7%B7%9A%E5%BD%A2%E5%9B%9E%E5%B8%B0.ipynb\" target=\"_parent\"><img src=\"https://colab.research.google.com/assets/colab-badge.svg\" alt=\"Open In Colab\"/></a>"
      ]
    },
    {
      "cell_type": "markdown",
      "metadata": {
        "id": "qusrXnMJ1Bwb"
      },
      "source": [
        ""
      ]
    },
    {
      "cell_type": "code",
      "metadata": {
        "id": "aZzRc_YA0_WQ"
      },
      "source": [
        "import torch\n",
        "# NNの定義をする様々な関数が用意されている\n",
        "import torch.nn as nn\n",
        "import torch.optim as optim\n",
        "import matplotlib.pyplot as plt\n",
        "import numpy as np\n",
        "%matplotlib inline\n",
        "# matplotlibのスタイルをggplotに設定\n",
        "plt.style.use('ggplot')"
      ],
      "execution_count": 2,
      "outputs": []
    },
    {
      "cell_type": "code",
      "metadata": {
        "colab": {
          "base_uri": "https://localhost:8080/"
        },
        "id": "tRFFlzGG9fqy",
        "outputId": "8eb832d7-b1bc-4f99-dec8-3f9636838afc"
      },
      "source": [
        "# 乱数生成\n",
        "torch.manual_seed(123)"
      ],
      "execution_count": 3,
      "outputs": [
        {
          "output_type": "execute_result",
          "data": {
            "text/plain": [
              "<torch._C.Generator at 0x7fb090427b70>"
            ]
          },
          "metadata": {},
          "execution_count": 3
        }
      ]
    },
    {
      "cell_type": "code",
      "metadata": {
        "id": "CqSZJ8Uk91mg"
      },
      "source": [
        "# 傾きa=3, 切片b=2\n",
        "a = 3\n",
        "b = 2\n",
        "# 0から5まで100刻み→viewで100*1という風に変形\n",
        "x = torch.linspace(0, 5, 100).view(100,1)"
      ],
      "execution_count": 7,
      "outputs": []
    },
    {
      "cell_type": "code",
      "metadata": {
        "id": "heBZ4RZA99c3"
      },
      "source": [
        "# ランダムな変数イプシロンを加える\n",
        "eps = torch.randn(100, 1)\n",
        "y = a * x + b + eps"
      ],
      "execution_count": 9,
      "outputs": []
    },
    {
      "cell_type": "code",
      "metadata": {
        "colab": {
          "base_uri": "https://localhost:8080/",
          "height": 282
        },
        "id": "0FTcqLrN-TLx",
        "outputId": "2bb7b5ad-7c46-4b87-b704-6f888f870da1"
      },
      "source": [
        "# viewを100*1にした理由→PyTorchで順伝播の計算をするときに必ず入力データの最初にバッチの次元が来る必要がある。\n",
        "# その次に入力データの次元がある。view(バッチの次元、入力(出力？)データの次元)\n",
        "# 傾き3で切片2のグラフを描画\n",
        "plt.scatter(x, y)"
      ],
      "execution_count": 10,
      "outputs": [
        {
          "output_type": "execute_result",
          "data": {
            "text/plain": [
              "<matplotlib.collections.PathCollection at 0x7fb08f451d50>"
            ]
          },
          "metadata": {},
          "execution_count": 10
        },
        {
          "output_type": "display_data",
          "data": {
            "image/png": "[encoded data removed]",
            "text/plain": [
              "<Figure size 432x288 with 1 Axes>"
            ]
          },
          "metadata": {}
        }
      ]
    },
    {
      "cell_type": "markdown",
      "metadata": {
        "id": "-3QD6tUL_sc-"
      },
      "source": [
        "## モデルの定義を行う"
      ]
    },
    {
      "cell_type": "code",
      "metadata": {
        "id": "ISTXulyn_Phf"
      },
      "source": [
        "# Linear Regression 線形回帰なのでLR\n",
        "# ベースクラスnn.Moduleを継承\n",
        "class LR(nn.Module):\n",
        "    def __init__(self):\n",
        "        super().__init__()\n",
        "        self.linear = nn.Linear(in_features=1, out_features=1) # 1つの値を受け取って1つの値を返す\n",
        "    # 順伝播のモデル定義\n",
        "    def forward(self, x):\n",
        "        output = self.linear(x)\n",
        "        return output"
      ],
      "execution_count": 11,
      "outputs": []
    },
    {
      "cell_type": "code",
      "metadata": {
        "id": "GEj9KsP8AWQ0"
      },
      "source": [
        "model = LR()"
      ],
      "execution_count": 12,
      "outputs": []
    },
    {
      "cell_type": "code",
      "metadata": {
        "id": "NZH7RVQwAXtz"
      },
      "source": [
        "x_test = torch.tensor([[1.0], [2.0]])"
      ],
      "execution_count": 14,
      "outputs": []
    },
    {
      "cell_type": "code",
      "metadata": {
        "colab": {
          "base_uri": "https://localhost:8080/"
        },
        "id": "MK9GR7M7Ae76",
        "outputId": "121405b9-749b-429c-ab69-fa44714baa40"
      },
      "source": [
        "model(x_test)"
      ],
      "execution_count": 15,
      "outputs": [
        {
          "output_type": "execute_result",
          "data": {
            "text/plain": [
              "tensor([[-0.4981],\n",
              "        [-1.2797]], grad_fn=<AddmmBackward>)"
            ]
          },
          "metadata": {},
          "execution_count": 15
        }
      ]
    },
    {
      "cell_type": "code",
      "metadata": {
        "id": "S1v9tZDyAihg"
      },
      "source": [
        "# たくさんのデータを与えてみる\n",
        "x2 = torch.linspace(0, 3, 100).view(100, 1)"
      ],
      "execution_count": 16,
      "outputs": []
    },
    {
      "cell_type": "code",
      "metadata": {
        "colab": {
          "base_uri": "https://localhost:8080/"
        },
        "id": "PeftiXRiAqiD",
        "outputId": "c40f6365-3f79-47aa-dec4-a6d39aaf78b9"
      },
      "source": [
        "x2.size()"
      ],
      "execution_count": 17,
      "outputs": [
        {
          "output_type": "execute_result",
          "data": {
            "text/plain": [
              "torch.Size([100, 1])"
            ]
          },
          "metadata": {},
          "execution_count": 17
        }
      ]
    },
    {
      "cell_type": "code",
      "metadata": {
        "id": "hZwpEVtkArUu"
      },
      "source": [
        "y_pred = model(x2)"
      ],
      "execution_count": 18,
      "outputs": []
    },
    {
      "cell_type": "code",
      "metadata": {
        "colab": {
          "base_uri": "https://localhost:8080/",
          "height": 282
        },
        "id": "Zafj-LbwAtO6",
        "outputId": "8e4876ce-3d53-46cf-fd8c-0d2617f51a70"
      },
      "source": [
        "# 描画をするときにy_predを渡すが、順伝播をさせてネットワークが作成されているものなので(Define By Runの性質)\n",
        "# グラフを描画する際に勾配計算をする設定を取り外す必要がある→detach()勾配計算をしない宣言\n",
        "plt.plot(x2, y_pred.detach(), label='prediction')\n",
        "plt.scatter(x, y, label='data')\n",
        "plt.legend()"
      ],
      "execution_count": 22,
      "outputs": [
        {
          "output_type": "execute_result",
          "data": {
            "text/plain": [
              "<matplotlib.legend.Legend at 0x7fb08eb69c10>"
            ]
          },
          "metadata": {},
          "execution_count": 22
        },
        {
          "output_type": "display_data",
          "data": {
            "image/png": "[encoded data removed]",
            "text/plain": [
              "<Figure size 432x288 with 1 Axes>"
            ]
          },
          "metadata": {}
        }
      ]
    },
    {
      "cell_type": "code",
      "metadata": {
        "id": "kWdE7Tc9Avup"
      },
      "source": [
        "# ここから学習させて直線をdataに近似させる\n",
        "# 損失関数の値を設定する\n",
        "criterion = nn.MSELoss()\n",
        "# model.parameters()には重みとバイアスの情報が入っている\n",
        "# 重みとバイアスを更新したいのでoptimizerに渡す\n",
        "optimizer = optim.SGD(model.parameters(), lr=0.001)"
      ],
      "execution_count": 23,
      "outputs": []
    },
    {
      "cell_type": "code",
      "metadata": {
        "colab": {
          "base_uri": "https://localhost:8080/"
        },
        "id": "c3wxeFlTB7Ew",
        "outputId": "7d1743ec-f6ff-4280-8e8c-d04757140084"
      },
      "source": [
        "# 損失関数を保存しておくリストを用意する\n",
        "losses = []\n",
        "num_epoch = 500\n",
        "for epoch in range(num_epoch):\n",
        "    # 本来はミニバッチの学習をするが今回はデータが小さいのでバッチ学習を行う(そのためミニバッチのループはない)\n",
        "    # optimizer勾配の初期化を行う\n",
        "    optimizer.zero_grad()\n",
        "    # モデルに入力xを与えて予測値を計算\n",
        "    y_pred = model(x)\n",
        "    # lossの計算を行う\n",
        "    loss = criterion(y_pred, y)\n",
        "    loss.backward()\n",
        "    # 上記で勾配が求まるのでoptimizerで重みとバイアスを更新する\n",
        "    optimizer.step()\n",
        "    # 適当なところでlossの値を吐き出しておく\n",
        "    if epoch % 10 == 0:\n",
        "        print(\"epoch: {}, loss: {}\".format(epoch, loss.item()))# loss.item()→Tensorから中の値を取り出す\n",
        "        losses.append(loss.item())\n"
      ],
      "execution_count": 24,
      "outputs": [
        {
          "output_type": "stream",
          "name": "stdout",
          "text": [
            "epoch: 0, loss: 158.1025390625\n",
            "epoch: 10, loss: 109.65031433105469\n",
            "epoch: 20, loss: 76.15255737304688\n",
            "epoch: 30, loss: 52.99365234375\n",
            "epoch: 40, loss: 36.9825325012207\n",
            "epoch: 50, loss: 25.9130916595459\n",
            "epoch: 60, loss: 18.26008415222168\n",
            "epoch: 70, loss: 12.96904182434082\n",
            "epoch: 80, loss: 9.310954093933105\n",
            "epoch: 90, loss: 6.781832695007324\n",
            "epoch: 100, loss: 5.0332112312316895\n",
            "epoch: 110, loss: 3.824190616607666\n",
            "epoch: 120, loss: 2.988236665725708\n",
            "epoch: 130, loss: 2.4102022647857666\n",
            "epoch: 140, loss: 2.010479688644409\n",
            "epoch: 150, loss: 1.734033226966858\n",
            "epoch: 160, loss: 1.542818307876587\n",
            "epoch: 170, loss: 1.4105280637741089\n",
            "epoch: 180, loss: 1.3189764022827148\n",
            "epoch: 190, loss: 1.2555911540985107\n",
            "epoch: 200, loss: 1.2116785049438477\n",
            "epoch: 210, loss: 1.1812294721603394\n",
            "epoch: 220, loss: 1.1600910425186157\n",
            "epoch: 230, loss: 1.1453883647918701\n",
            "epoch: 240, loss: 1.135136365890503\n",
            "epoch: 250, loss: 1.1279627084732056\n",
            "epoch: 260, loss: 1.1229172945022583\n",
            "epoch: 270, loss: 1.11934494972229\n",
            "epoch: 280, loss: 1.1167913675308228\n",
            "epoch: 290, loss: 1.114943027496338\n",
            "epoch: 300, loss: 1.113582730293274\n",
            "epoch: 310, loss: 1.1125609874725342\n",
            "epoch: 320, loss: 1.1117736101150513\n",
            "epoch: 330, loss: 1.111149549484253\n",
            "epoch: 340, loss: 1.1106384992599487\n",
            "epoch: 350, loss: 1.110206961631775\n",
            "epoch: 360, loss: 1.109830617904663\n",
            "epoch: 370, loss: 1.109493374824524\n",
            "epoch: 380, loss: 1.1091841459274292\n",
            "epoch: 390, loss: 1.1088944673538208\n",
            "epoch: 400, loss: 1.108619213104248\n",
            "epoch: 410, loss: 1.1083548069000244\n",
            "epoch: 420, loss: 1.1080983877182007\n",
            "epoch: 430, loss: 1.1078482866287231\n",
            "epoch: 440, loss: 1.1076030731201172\n",
            "epoch: 450, loss: 1.1073620319366455\n",
            "epoch: 460, loss: 1.1071245670318604\n",
            "epoch: 470, loss: 1.106890082359314\n",
            "epoch: 480, loss: 1.1066583395004272\n",
            "epoch: 490, loss: 1.1064293384552002\n"
          ]
        }
      ]
    },
    {
      "cell_type": "code",
      "metadata": {
        "colab": {
          "base_uri": "https://localhost:8080/",
          "height": 282
        },
        "id": "kmK4ObwmDfXV",
        "outputId": "32e9a894-4fcf-4233-ae6c-8940a931f935"
      },
      "source": [
        "# 損失が150くらいあったのが大体1くらいまで収まっている\n",
        "# 描画してみる\n",
        "# 損失の値が下がっている→うまく学習できている\n",
        "plt.plot(losses)"
      ],
      "execution_count": 26,
      "outputs": [
        {
          "output_type": "execute_result",
          "data": {
            "text/plain": [
              "[<matplotlib.lines.Line2D at 0x7fb08ea43f50>]"
            ]
          },
          "metadata": {},
          "execution_count": 26
        },
        {
          "output_type": "display_data",
          "data": {
            "image/png": "[encoded data removed]",
            "text/plain": [
              "<Figure size 432x288 with 1 Axes>"
            ]
          },
          "metadata": {}
        }
      ]
    },
    {
      "cell_type": "markdown",
      "metadata": {
        "id": "HoQNe40bD1xJ"
      },
      "source": [
        "## テストデータを与えてみる"
      ]
    },
    {
      "cell_type": "code",
      "metadata": {
        "colab": {
          "base_uri": "https://localhost:8080/",
          "height": 282
        },
        "id": "quqpwF23Ds1E",
        "outputId": "a27b7c50-0292-484a-f764-5bc73dd58296"
      },
      "source": [
        "x_test = torch.linspace(0, 5, 100).view(100, 1)\n",
        "y_test = model(x_test)\n",
        "plt.plot(x_test, y_test.detach(), label=\"prediction\")\n",
        "plt.scatter(x, y, label=\"data\")\n",
        "plt.legend()\n",
        "# 学習がうまくいっていることがわかる"
      ],
      "execution_count": 28,
      "outputs": [
        {
          "output_type": "execute_result",
          "data": {
            "text/plain": [
              "<matplotlib.legend.Legend at 0x7fb08e9a35d0>"
            ]
          },
          "metadata": {},
          "execution_count": 28
        },
        {
          "output_type": "display_data",
          "data": {
            "image/png": "[encoded data removed]",
            "text/plain": [
              "<Figure size 432x288 with 1 Axes>"
            ]
          },
          "metadata": {}
        }
      ]
    },
    {
      "cell_type": "code",
      "metadata": {
        "id": "vs8fh2qRD-Eq"
      },
      "source": [
        ""
      ],
      "execution_count": null,
      "outputs": []
    }
  ]
}