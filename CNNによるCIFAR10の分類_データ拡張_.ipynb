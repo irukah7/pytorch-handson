{
  "nbformat": 4,
  "nbformat_minor": 0,
  "metadata": {
    "colab": {
      "name": "CNNによるCIFAR10の分類-データ拡張-.ipynb",
      "provenance": [],
      "collapsed_sections": [],
      "authorship_tag": "ABX9TyNbLtzh1YN2X6cqZOrJs5tZ",
      "include_colab_link": true
    },
    "kernelspec": {
      "name": "python3",
      "display_name": "Python 3"
    },
    "language_info": {
      "name": "python"
    },
    "accelerator": "GPU",
    "widgets": {
      "application/vnd.jupyter.widget-state+json": {
        "0b35d7052d914cc390a485a10e018ec9": {
          "model_module": "@jupyter-widgets/controls",
          "model_name": "HBoxModel",
          "model_module_version": "1.5.0",
          "state": {
            "_view_name": "HBoxView",
            "_dom_classes": [],
            "_model_name": "HBoxModel",
            "_view_module": "@jupyter-widgets/controls",
            "_model_module_version": "1.5.0",
            "_view_count": null,
            "_view_module_version": "1.5.0",
            "box_style": "",
            "layout": "IPY_MODEL_6a04c83c3b0c43c393d12694ea3865b1",
            "_model_module": "@jupyter-widgets/controls",
            "children": [
              "IPY_MODEL_dd0b7a104c114dedb180815d769ca51b",
              "IPY_MODEL_75b7355defb744fda4e95180d1508f8f",
              "IPY_MODEL_330664319a0346a89fb4df2de2c4aa58"
            ]
          }
        },
        "6a04c83c3b0c43c393d12694ea3865b1": {
          "model_module": "@jupyter-widgets/base",
          "model_name": "LayoutModel",
          "model_module_version": "1.2.0",
          "state": {
            "_view_name": "LayoutView",
            "grid_template_rows": null,
            "right": null,
            "justify_content": null,
            "_view_module": "@jupyter-widgets/base",
            "overflow": null,
            "_model_module_version": "1.2.0",
            "_view_count": null,
            "flex_flow": null,
            "width": null,
            "min_width": null,
            "border": null,
            "align_items": null,
            "bottom": null,
            "_model_module": "@jupyter-widgets/base",
            "top": null,
            "grid_column": null,
            "overflow_y": null,
            "overflow_x": null,
            "grid_auto_flow": null,
            "grid_area": null,
            "grid_template_columns": null,
            "flex": null,
            "_model_name": "LayoutModel",
            "justify_items": null,
            "grid_row": null,
            "max_height": null,
            "align_content": null,
            "visibility": null,
            "align_self": null,
            "height": null,
            "min_height": null,
            "padding": null,
            "grid_auto_rows": null,
            "grid_gap": null,
            "max_width": null,
            "order": null,
            "_view_module_version": "1.2.0",
            "grid_template_areas": null,
            "object_position": null,
            "object_fit": null,
            "grid_auto_columns": null,
            "margin": null,
            "display": null,
            "left": null
          }
        },
        "dd0b7a104c114dedb180815d769ca51b": {
          "model_module": "@jupyter-widgets/controls",
          "model_name": "HTMLModel",
          "model_module_version": "1.5.0",
          "state": {
            "_view_name": "HTMLView",
            "style": "IPY_MODEL_6c3fffc07b9a4edb96f6f1446c6e0b86",
            "_dom_classes": [],
            "description": "",
            "_model_name": "HTMLModel",
            "placeholder": "​",
            "_view_module": "@jupyter-widgets/controls",
            "_model_module_version": "1.5.0",
            "value": "",
            "_view_count": null,
            "_view_module_version": "1.5.0",
            "description_tooltip": null,
            "_model_module": "@jupyter-widgets/controls",
            "layout": "IPY_MODEL_cb13d07e6c514d18910bb82abfa61b41"
          }
        },
        "75b7355defb744fda4e95180d1508f8f": {
          "model_module": "@jupyter-widgets/controls",
          "model_name": "FloatProgressModel",
          "model_module_version": "1.5.0",
          "state": {
            "_view_name": "ProgressView",
            "style": "IPY_MODEL_24bda04735284f93a437e1307c779cca",
            "_dom_classes": [],
            "description": "",
            "_model_name": "FloatProgressModel",
            "bar_style": "success",
            "max": 170498071,
            "_view_module": "@jupyter-widgets/controls",
            "_model_module_version": "1.5.0",
            "value": 170498071,
            "_view_count": null,
            "_view_module_version": "1.5.0",
            "orientation": "horizontal",
            "min": 0,
            "description_tooltip": null,
            "_model_module": "@jupyter-widgets/controls",
            "layout": "IPY_MODEL_917d17113a2a42aca2303b9518cf96db"
          }
        },
        "330664319a0346a89fb4df2de2c4aa58": {
          "model_module": "@jupyter-widgets/controls",
          "model_name": "HTMLModel",
          "model_module_version": "1.5.0",
          "state": {
            "_view_name": "HTMLView",
            "style": "IPY_MODEL_7de6243ea4954fb58991a2614846bcc4",
            "_dom_classes": [],
            "description": "",
            "_model_name": "HTMLModel",
            "placeholder": "​",
            "_view_module": "@jupyter-widgets/controls",
            "_model_module_version": "1.5.0",
            "value": " 170499072/? [00:06&lt;00:00, 31715710.64it/s]",
            "_view_count": null,
            "_view_module_version": "1.5.0",
            "description_tooltip": null,
            "_model_module": "@jupyter-widgets/controls",
            "layout": "IPY_MODEL_c64c5e58bf88480f9f7cf0e28ea2f20f"
          }
        },
        "6c3fffc07b9a4edb96f6f1446c6e0b86": {
          "model_module": "@jupyter-widgets/controls",
          "model_name": "DescriptionStyleModel",
          "model_module_version": "1.5.0",
          "state": {
            "_view_name": "StyleView",
            "_model_name": "DescriptionStyleModel",
            "description_width": "",
            "_view_module": "@jupyter-widgets/base",
            "_model_module_version": "1.5.0",
            "_view_count": null,
            "_view_module_version": "1.2.0",
            "_model_module": "@jupyter-widgets/controls"
          }
        },
        "cb13d07e6c514d18910bb82abfa61b41": {
          "model_module": "@jupyter-widgets/base",
          "model_name": "LayoutModel",
          "model_module_version": "1.2.0",
          "state": {
            "_view_name": "LayoutView",
            "grid_template_rows": null,
            "right": null,
            "justify_content": null,
            "_view_module": "@jupyter-widgets/base",
            "overflow": null,
            "_model_module_version": "1.2.0",
            "_view_count": null,
            "flex_flow": null,
            "width": null,
            "min_width": null,
            "border": null,
            "align_items": null,
            "bottom": null,
            "_model_module": "@jupyter-widgets/base",
            "top": null,
            "grid_column": null,
            "overflow_y": null,
            "overflow_x": null,
            "grid_auto_flow": null,
            "grid_area": null,
            "grid_template_columns": null,
            "flex": null,
            "_model_name": "LayoutModel",
            "justify_items": null,
            "grid_row": null,
            "max_height": null,
            "align_content": null,
            "visibility": null,
            "align_self": null,
            "height": null,
            "min_height": null,
            "padding": null,
            "grid_auto_rows": null,
            "grid_gap": null,
            "max_width": null,
            "order": null,
            "_view_module_version": "1.2.0",
            "grid_template_areas": null,
            "object_position": null,
            "object_fit": null,
            "grid_auto_columns": null,
            "margin": null,
            "display": null,
            "left": null
          }
        },
        "24bda04735284f93a437e1307c779cca": {
          "model_module": "@jupyter-widgets/controls",
          "model_name": "ProgressStyleModel",
          "model_module_version": "1.5.0",
          "state": {
            "_view_name": "StyleView",
            "_model_name": "ProgressStyleModel",
            "description_width": "",
            "_view_module": "@jupyter-widgets/base",
            "_model_module_version": "1.5.0",
            "_view_count": null,
            "_view_module_version": "1.2.0",
            "bar_color": null,
            "_model_module": "@jupyter-widgets/controls"
          }
        },
        "917d17113a2a42aca2303b9518cf96db": {
          "model_module": "@jupyter-widgets/base",
          "model_name": "LayoutModel",
          "model_module_version": "1.2.0",
          "state": {
            "_view_name": "LayoutView",
            "grid_template_rows": null,
            "right": null,
            "justify_content": null,
            "_view_module": "@jupyter-widgets/base",
            "overflow": null,
            "_model_module_version": "1.2.0",
            "_view_count": null,
            "flex_flow": null,
            "width": null,
            "min_width": null,
            "border": null,
            "align_items": null,
            "bottom": null,
            "_model_module": "@jupyter-widgets/base",
            "top": null,
            "grid_column": null,
            "overflow_y": null,
            "overflow_x": null,
            "grid_auto_flow": null,
            "grid_area": null,
            "grid_template_columns": null,
            "flex": null,
            "_model_name": "LayoutModel",
            "justify_items": null,
            "grid_row": null,
            "max_height": null,
            "align_content": null,
            "visibility": null,
            "align_self": null,
            "height": null,
            "min_height": null,
            "padding": null,
            "grid_auto_rows": null,
            "grid_gap": null,
            "max_width": null,
            "order": null,
            "_view_module_version": "1.2.0",
            "grid_template_areas": null,
            "object_position": null,
            "object_fit": null,
            "grid_auto_columns": null,
            "margin": null,
            "display": null,
            "left": null
          }
        },
        "7de6243ea4954fb58991a2614846bcc4": {
          "model_module": "@jupyter-widgets/controls",
          "model_name": "DescriptionStyleModel",
          "model_module_version": "1.5.0",
          "state": {
            "_view_name": "StyleView",
            "_model_name": "DescriptionStyleModel",
            "description_width": "",
            "_view_module": "@jupyter-widgets/base",
            "_model_module_version": "1.5.0",
            "_view_count": null,
            "_view_module_version": "1.2.0",
            "_model_module": "@jupyter-widgets/controls"
          }
        },
        "c64c5e58bf88480f9f7cf0e28ea2f20f": {
          "model_module": "@jupyter-widgets/base",
          "model_name": "LayoutModel",
          "model_module_version": "1.2.0",
          "state": {
            "_view_name": "LayoutView",
            "grid_template_rows": null,
            "right": null,
            "justify_content": null,
            "_view_module": "@jupyter-widgets/base",
            "overflow": null,
            "_model_module_version": "1.2.0",
            "_view_count": null,
            "flex_flow": null,
            "width": null,
            "min_width": null,
            "border": null,
            "align_items": null,
            "bottom": null,
            "_model_module": "@jupyter-widgets/base",
            "top": null,
            "grid_column": null,
            "overflow_y": null,
            "overflow_x": null,
            "grid_auto_flow": null,
            "grid_area": null,
            "grid_template_columns": null,
            "flex": null,
            "_model_name": "LayoutModel",
            "justify_items": null,
            "grid_row": null,
            "max_height": null,
            "align_content": null,
            "visibility": null,
            "align_self": null,
            "height": null,
            "min_height": null,
            "padding": null,
            "grid_auto_rows": null,
            "grid_gap": null,
            "max_width": null,
            "order": null,
            "_view_module_version": "1.2.0",
            "grid_template_areas": null,
            "object_position": null,
            "object_fit": null,
            "grid_auto_columns": null,
            "margin": null,
            "display": null,
            "left": null
          }
        }
      }
    }
  },
  "cells": [
    {
      "cell_type": "markdown",
      "metadata": {
        "id": "view-in-github",
        "colab_type": "text"
      },
      "source": [
        "<a href=\"https://colab.research.google.com/github/wincmoriya/pytorch-handson/blob/main/CNN%E3%81%AB%E3%82%88%E3%82%8BCIFAR10%E3%81%AE%E5%88%86%E9%A1%9E_%E3%83%87%E3%83%BC%E3%82%BF%E6%8B%A1%E5%BC%B5_.ipynb\" target=\"_parent\"><img src=\"https://colab.research.google.com/assets/colab-badge.svg\" alt=\"Open In Colab\"/></a>"
      ]
    },
    {
      "cell_type": "code",
      "metadata": {
        "id": "EYtyEXY2xTh6"
      },
      "source": [
        "import torch\n",
        "import torchvision\n",
        "import torch.nn as nn\n",
        "import torch.optim as optim\n",
        "import numpy as np\n",
        "from torchvision import datasets, transforms\n",
        "import matplotlib.pyplot as plt\n",
        "from torch.utils.data import DataLoader"
      ],
      "execution_count": 2,
      "outputs": []
    },
    {
      "cell_type": "code",
      "metadata": {
        "id": "XRa379Pp4fnE"
      },
      "source": [
        "device = \"cuda\" if torch.cuda.is_available() else \"cpu\""
      ],
      "execution_count": 3,
      "outputs": []
    },
    {
      "cell_type": "code",
      "metadata": {
        "colab": {
          "base_uri": "https://localhost:8080/",
          "height": 35
        },
        "id": "3ae6CI6i4qAC",
        "outputId": "d24fe645-5b76-4562-87a6-2d82499ee3b6"
      },
      "source": [
        "device"
      ],
      "execution_count": 4,
      "outputs": [
        {
          "output_type": "execute_result",
          "data": {
            "application/vnd.google.colaboratory.intrinsic+json": {
              "type": "string"
            },
            "text/plain": [
              "'cuda'"
            ]
          },
          "metadata": {},
          "execution_count": 4
        }
      ]
    },
    {
      "cell_type": "markdown",
      "metadata": {
        "id": "LJRtBEXM4uU8"
      },
      "source": [
        "## 前処理"
      ]
    },
    {
      "cell_type": "code",
      "metadata": {
        "colab": {
          "base_uri": "https://localhost:8080/",
          "height": 100,
          "referenced_widgets": [
            "0b35d7052d914cc390a485a10e018ec9",
            "6a04c83c3b0c43c393d12694ea3865b1",
            "dd0b7a104c114dedb180815d769ca51b",
            "75b7355defb744fda4e95180d1508f8f",
            "330664319a0346a89fb4df2de2c4aa58",
            "6c3fffc07b9a4edb96f6f1446c6e0b86",
            "cb13d07e6c514d18910bb82abfa61b41",
            "24bda04735284f93a437e1307c779cca",
            "917d17113a2a42aca2303b9518cf96db",
            "7de6243ea4954fb58991a2614846bcc4",
            "c64c5e58bf88480f9f7cf0e28ea2f20f"
          ]
        },
        "id": "Dk453NSR4q_k",
        "outputId": "4998763d-56d7-40cb-cce4-1a4d535303bb"
      },
      "source": [
        "val_transform = transforms.Compose([\n",
        "                                # 画像をTensorクラスに変える、チャネルファーストに変換する\n",
        "                                transforms.ToTensor(),\n",
        "                                # RGBのチャネルごとに画像全体の平均値0.5, 標準偏差0.5になるように正規化\n",
        "                                transforms.Normalize((0.5,), (0.5,))\n",
        "])\n",
        "\n",
        "train_transform = transforms.Compose([\n",
        "                                # ----------データ拡張のための前処理定義-----------\n",
        "                                # ランダムに左右を入れ替える\n",
        "                                transforms.RandomHorizontalFlip(),\n",
        "                                # ランダムに画像の色調を変える\n",
        "                                transforms.ColorJitter(),\n",
        "                                # ランダムに画像の回転を行う, ±10度で回転する\n",
        "                                transforms.RandomRotation(10),\n",
        "                                # ---------------------------------------------------------\n",
        "                                # 画像をTensorクラスに変える、チャネルファーストに変換する\n",
        "                                transforms.ToTensor(),\n",
        "                                # RGBのチャネルごとに画像全体の平均値0.5, 標準偏差0.5になるように正規化\n",
        "                                transforms.Normalize((0.5,), (0.5,))\n",
        "])\n",
        "\n",
        "# 学習用データセット\n",
        "train_dataset = datasets.CIFAR10(root=\"./data\", train=True, download=True, transform=train_transform)\n",
        "# 検証用のデータセット, 学習済みでない画像1万枚使用\n",
        "validation_dataset = datasets.CIFAR10(root=\"./data\", train=False, download=True, transform=val_transform)"
      ],
      "execution_count": 5,
      "outputs": [
        {
          "output_type": "stream",
          "name": "stdout",
          "text": [
            "Downloading https://www.cs.toronto.edu/~kriz/cifar-10-python.tar.gz to ./data/cifar-10-python.tar.gz\n"
          ]
        },
        {
          "output_type": "display_data",
          "data": {
            "application/vnd.jupyter.widget-view+json": {
              "model_id": "0b35d7052d914cc390a485a10e018ec9",
              "version_minor": 0,
              "version_major": 2
            },
            "text/plain": [
              "  0%|          | 0/170498071 [00:00<?, ?it/s]"
            ]
          },
          "metadata": {}
        },
        {
          "output_type": "stream",
          "name": "stdout",
          "text": [
            "Extracting ./data/cifar-10-python.tar.gz to ./data\n",
            "Files already downloaded and verified\n"
          ]
        }
      ]
    },
    {
      "cell_type": "code",
      "metadata": {
        "id": "QHfeS9oz4uMg"
      },
      "source": [
        "# CIFAR10で扱われる10個の分類を定義しておく\n",
        "names = (\"plane\", \"car\", \"bird\", \"cat\", \"deer\", \"dog\", \"frog\", \"horse\", \"ship\", \"truck\")"
      ],
      "execution_count": 6,
      "outputs": []
    },
    {
      "cell_type": "code",
      "metadata": {
        "id": "1ja2B8tv6E-O"
      },
      "source": [
        "# datasetをdataLoaderに与える\n",
        "# batch_size　＝ ミニバッチ, 学習時には読み込みをランダムに「するためにshuffleする\n",
        "train_dataloader = DataLoader(train_dataset, batch_size=32, shuffle=True)\n",
        "# 同様に検証データローダーも作成, 検証時にシャッフルする必要がないのでFalse\n",
        "validation_dataloader = DataLoader(validation_dataset, batch_size=32, shuffle=True)"
      ],
      "execution_count": 7,
      "outputs": []
    },
    {
      "cell_type": "markdown",
      "metadata": {
        "id": "hjUtA-eo9V-F"
      },
      "source": [
        "### iterを使って要素取得\n",
        "iter()はリストやタプルなど複数の要素を持つデータに対して、イテレータに変換することで要素を最初から順番に取り出すことができる機能"
      ]
    },
    {
      "cell_type": "code",
      "metadata": {
        "id": "xF5CLLU36zh3"
      },
      "source": [
        "# data_loaderから画像とラベルを取得してみる\n",
        "data_iter = iter(train_dataloader)"
      ],
      "execution_count": 8,
      "outputs": []
    },
    {
      "cell_type": "code",
      "metadata": {
        "id": "EwqGYRX19ArG"
      },
      "source": [
        "# 1つだけ取得する\n",
        "imgs, labels = data_iter.next()"
      ],
      "execution_count": 9,
      "outputs": []
    },
    {
      "cell_type": "code",
      "metadata": {
        "colab": {
          "base_uri": "https://localhost:8080/"
        },
        "id": "2YfPoPQu9DeW",
        "outputId": "5278b750-cf8d-4427-9cf5-0f5a4d3a8046"
      },
      "source": [
        "# 最初の画像を見るとラベル番号6(カエル)であることがわかる\n",
        "labels"
      ],
      "execution_count": 10,
      "outputs": [
        {
          "output_type": "execute_result",
          "data": {
            "text/plain": [
              "tensor([4, 7, 9, 3, 3, 6, 5, 5, 6, 1, 7, 8, 9, 9, 8, 5, 5, 2, 7, 2, 8, 5, 5, 8,\n",
              "        5, 1, 2, 7, 6, 4, 2, 8])"
            ]
          },
          "metadata": {},
          "execution_count": 10
        }
      ]
    },
    {
      "cell_type": "code",
      "metadata": {
        "colab": {
          "base_uri": "https://localhost:8080/"
        },
        "id": "_hQT4Z8S9ELT",
        "outputId": "91ab8d2b-5816-49ec-9877-5e111b0d9f9f"
      },
      "source": [
        "# 画像のサイズを確認\n",
        "# torch.Size([ミニバッチ数, チャネル, 高さ, 横])->チャネルファーストになっている\n",
        "imgs.size()"
      ],
      "execution_count": 11,
      "outputs": [
        {
          "output_type": "execute_result",
          "data": {
            "text/plain": [
              "torch.Size([32, 3, 32, 32])"
            ]
          },
          "metadata": {},
          "execution_count": 11
        }
      ]
    },
    {
      "cell_type": "code",
      "metadata": {
        "id": "qdkk6229-LNP"
      },
      "source": [
        "img = imgs[0]"
      ],
      "execution_count": 12,
      "outputs": []
    },
    {
      "cell_type": "code",
      "metadata": {
        "id": "oWZlRg6c-bmC"
      },
      "source": [
        "# Tensor -> 画像にするためにチャネルラストにする\n",
        "img_permute = img.permute(1, 2, 0)"
      ],
      "execution_count": 13,
      "outputs": []
    },
    {
      "cell_type": "code",
      "metadata": {
        "id": "FHfRXX1I-7XD"
      },
      "source": [
        "# 画像の明るさを調整する\n",
        "img_permute = 0.5 * img_permute + 0.5"
      ],
      "execution_count": 14,
      "outputs": []
    },
    {
      "cell_type": "markdown",
      "metadata": {
        "id": "TaM9avTF_gCs"
      },
      "source": [
        "## np.clip()\n",
        "配列内の値をクリップ(制限)する。<br>\n",
        "たとえば、 [0, 1] 間隔が指定されている場合、0より小さい値は0になり、1より大きい値は1になる。"
      ]
    },
    {
      "cell_type": "code",
      "metadata": {
        "id": "aUBm0kcC_INT"
      },
      "source": [
        "# 0から1の値にクリップする\n",
        "img_permute = np.clip(img_permute, 0, 1)"
      ],
      "execution_count": 15,
      "outputs": []
    },
    {
      "cell_type": "code",
      "metadata": {
        "colab": {
          "base_uri": "https://localhost:8080/",
          "height": 283
        },
        "id": "krlAUYPO_vNm",
        "outputId": "051a5b25-5343-45f3-c3b9-0443c910ef6e"
      },
      "source": [
        "# ラベル番号6のカエルが表示されている\n",
        "plt.imshow(img_permute)"
      ],
      "execution_count": 16,
      "outputs": [
        {
          "output_type": "execute_result",
          "data": {
            "text/plain": [
              "<matplotlib.image.AxesImage at 0x7f25c8474850>"
            ]
          },
          "metadata": {},
          "execution_count": 16
        },
        {
          "output_type": "display_data",
          "data": {
            "image/png": "[encoded data removed]",
            "text/plain": [
              "<Figure size 432x288 with 1 Axes>"
            ]
          },
          "metadata": {
            "needs_background": "light"
          }
        }
      ]
    },
    {
      "cell_type": "markdown",
      "metadata": {
        "id": "OOrIAlmq_6Zd"
      },
      "source": [
        "## CNNのクラス定義"
      ]
    },
    {
      "cell_type": "code",
      "metadata": {
        "id": "T3atg2hY_0FN"
      },
      "source": [
        "class CNN(nn.Module):\n",
        "    # num_classesは今回は10\n",
        "    def __init__(self, num_classes):\n",
        "        # 最初は32×32の画像\n",
        "        super().__init__()\n",
        "        self.features = nn.Sequential(\n",
        "            # 1層目 32×32\n",
        "            nn.Conv2d(in_channels=3, out_channels=64, kernel_size=5, padding=2),\n",
        "            nn.ReLU(inplace=True),\n",
        "            nn.MaxPool2d(kernel_size=2),\n",
        "            # 2層目 16×16\n",
        "            nn.Conv2d(in_channels=64, out_channels=128, kernel_size=3, padding=1),\n",
        "            nn.ReLU(inplace=True),\n",
        "            nn.MaxPool2d(kernel_size=2),\n",
        "            # 3層目 8×8\n",
        "            nn.Conv2d(in_channels=128, out_channels=256, kernel_size=3, padding=1),\n",
        "            nn.ReLU(inplace=True),\n",
        "            nn.MaxPool2d(kernel_size=2),\n",
        "            # 4層目 4×4\n",
        "            nn.Conv2d(in_channels=256, out_channels=128, kernel_size=3, padding=1),\n",
        "            nn.ReLU(inplace=True),\n",
        "        )\n",
        "        # VGG16でも全結合層があったようにここでも設ける\n",
        "        # 1次元のベクトルで渡す必要がある\n",
        "        # 4層目が現在4×4×128になっているので\n",
        "        self.classifier = nn.Linear(in_features=4*4*128, out_features=num_classes)\n",
        "    def forward(self, x):\n",
        "        x = self.features(x)\n",
        "        # 出力は4*4*128のチャネルを持った画像\n",
        "        # このままだとclassifierに入力できないので1次元にベクトル化をする\n",
        "        # size(0)はバッチ数で32、第二引数を-1にすることで残りを自動で押し込む\n",
        "        # つまりC*H*W -> 4*4*128のベクトルになる\n",
        "        x = x.view(x.size(0), -1)\n",
        "        x = self.classifier(x)\n",
        "        return x"
      ],
      "execution_count": 17,
      "outputs": []
    },
    {
      "cell_type": "markdown",
      "metadata": {
        "id": "VckVCR8LBL1M"
      },
      "source": [
        "#### Conv2d(畳み込み)\n",
        "* 第1引数はその入力のチャネル数 -> 今回はRGBの3\n",
        "* 第2引数は畳み込み後のチャネル数 -> 今回は64\n",
        "* 第3引数は畳み込みをするための正方形フィルタ(カーネルとも言う)の1辺のサイズ\n",
        "* ※2マスずつ収縮しちゃうのでpaddingを与えるときに2を設定する\n",
        "    * そうすると画像が縮まない\n",
        "\n",
        "#### MaxPooling\n",
        "「nn.MaxPool2d(2, stride=2)」はpooling用でこのパラメータの場合データサイズが半分になるような処理をする(サイズの小数点以下は切り下げられる).\n",
        "32×32の画像が16×16の半分になる"
      ]
    },
    {
      "cell_type": "markdown",
      "metadata": {
        "id": "LzdKbFruL-II"
      },
      "source": [
        "## モデルの作成"
      ]
    },
    {
      "cell_type": "code",
      "metadata": {
        "colab": {
          "base_uri": "https://localhost:8080/"
        },
        "id": "Y_WT3bWtBfV1",
        "outputId": "86ef123e-f2aa-4fc5-f091-091de3be9eeb"
      },
      "source": [
        "model = CNN(10)\n",
        "# GPUに送る\n",
        "model.to(device)"
      ],
      "execution_count": 18,
      "outputs": [
        {
          "output_type": "execute_result",
          "data": {
            "text/plain": [
              "CNN(\n",
              "  (features): Sequential(\n",
              "    (0): Conv2d(3, 64, kernel_size=(5, 5), stride=(1, 1), padding=(2, 2))\n",
              "    (1): ReLU(inplace=True)\n",
              "    (2): MaxPool2d(kernel_size=2, stride=2, padding=0, dilation=1, ceil_mode=False)\n",
              "    (3): Conv2d(64, 128, kernel_size=(3, 3), stride=(1, 1), padding=(1, 1))\n",
              "    (4): ReLU(inplace=True)\n",
              "    (5): MaxPool2d(kernel_size=2, stride=2, padding=0, dilation=1, ceil_mode=False)\n",
              "    (6): Conv2d(128, 256, kernel_size=(3, 3), stride=(1, 1), padding=(1, 1))\n",
              "    (7): ReLU(inplace=True)\n",
              "    (8): MaxPool2d(kernel_size=2, stride=2, padding=0, dilation=1, ceil_mode=False)\n",
              "    (9): Conv2d(256, 128, kernel_size=(3, 3), stride=(1, 1), padding=(1, 1))\n",
              "    (10): ReLU(inplace=True)\n",
              "  )\n",
              "  (classifier): Linear(in_features=2048, out_features=10, bias=True)\n",
              ")"
            ]
          },
          "metadata": {},
          "execution_count": 18
        }
      ]
    },
    {
      "cell_type": "code",
      "metadata": {
        "id": "81dCRv45MENE"
      },
      "source": [
        "# 損失関数とオプティマイザを設定する\n",
        "criterion = nn.CrossEntropyLoss()\n",
        "# weight_decay：重みが大きくなりすぎないようにL2正則化する\n",
        "optimizer = optim.Adam(model.parameters(), lr=0.001, weight_decay=5e-4)"
      ],
      "execution_count": 19,
      "outputs": []
    },
    {
      "cell_type": "code",
      "metadata": {
        "colab": {
          "base_uri": "https://localhost:8080/"
        },
        "id": "b7TB1OshMjyY",
        "outputId": "099864e3-499e-4bed-80ee-a47c0dd65402"
      },
      "source": [
        "# 学習のループを描いていく\n",
        "num_epochs = 15\n",
        "losses = []\n",
        "accs = []\n",
        "val_losses = []\n",
        "val_accs = []\n",
        "for epoch in range(num_epochs):\n",
        "    #\n",
        "    # 学習trainのループ\n",
        "    #\n",
        "    running_loss = 0.0\n",
        "    running_acc = 0.0\n",
        "    for imgs, labels in train_dataloader:\n",
        "        imgs = imgs.to(device)\n",
        "        labels = labels.to(device)\n",
        "        optimizer.zero_grad()\n",
        "        # outputでモデルの予測値を出す\n",
        "        output = model(imgs)\n",
        "        loss = criterion(output, labels)\n",
        "        # 誤差逆伝播\n",
        "        loss.backward()\n",
        "        running_loss += loss.item()\n",
        "        pred = torch.argmax(output, dim=1)\n",
        "        running_acc += torch.mean(pred.eq(labels).float())\n",
        "        # 重みの更新\n",
        "        optimizer.step()\n",
        "    running_loss /= len(train_dataloader)\n",
        "    running_acc /= len(train_dataloader)\n",
        "    losses.append(running_loss)\n",
        "    accs.append(running_acc)\n",
        "\n",
        "    # 検証validationのループ\n",
        "    val_running_loss = 0\n",
        "    val_running_acc = 0\n",
        "    for val_imgs, val_labels in validation_dataloader:\n",
        "        val_imgs = val_imgs.to(device)\n",
        "        val_labels = val_labels.to(device)\n",
        "        val_output = model(val_imgs)\n",
        "        val_loss = criterion(val_output, val_labels)\n",
        "        val_running_loss += val_loss.item()\n",
        "        val_pred = torch.argmax(val_output, dim=1)\n",
        "        val_running_acc += torch.mean(val_pred.eq(val_labels).float())\n",
        "    val_running_loss /= len(validation_dataloader)\n",
        "    val_running_acc /= len(validation_dataloader)\n",
        "    val_losses.append(val_running_loss)\n",
        "    val_accs.append(val_running_acc)\n",
        "\n",
        "    print(\"epoch: {}, loss: {}, acc: {}, \\\n",
        "        val loss: {}, val acc: {}\".format(epoch, running_loss, running_acc, val_running_loss, val_running_acc))"
      ],
      "execution_count": 20,
      "outputs": [
        {
          "output_type": "stream",
          "name": "stderr",
          "text": [
            "/usr/local/lib/python3.7/dist-packages/torch/nn/functional.py:718: UserWarning: Named tensors and all their associated APIs are an experimental feature and subject to change. Please do not use them for anything important until they are released as stable. (Triggered internally at  /pytorch/c10/core/TensorImpl.h:1156.)\n",
            "  return torch.max_pool2d(input, kernel_size, stride, padding, dilation, ceil_mode)\n"
          ]
        },
        {
          "output_type": "stream",
          "name": "stdout",
          "text": [
            "epoch: 0, loss: 1.4189869063600697, acc: 0.4880238473415375,         val loss: 1.1068608160978688, val acc: 0.6033346652984619\n",
            "epoch: 1, loss: 1.019917522953324, acc: 0.6413547396659851,         val loss: 0.8954311898722055, val acc: 0.6812100410461426\n",
            "epoch: 2, loss: 0.8682618809486152, acc: 0.6968969702720642,         val loss: 0.7973847046446877, val acc: 0.7233426570892334\n",
            "epoch: 3, loss: 0.786845178250998, acc: 0.7246281504631042,         val loss: 0.7396034224155231, val acc: 0.7446086406707764\n",
            "epoch: 4, loss: 0.7361509321556592, acc: 0.7435820698738098,         val loss: 0.7168620318269577, val acc: 0.7543929815292358\n",
            "epoch: 5, loss: 0.6956278019735467, acc: 0.7587772011756897,         val loss: 0.7375045954324186, val acc: 0.7448083162307739\n",
            "epoch: 6, loss: 0.6581680167011168, acc: 0.7714131474494934,         val loss: 0.6710941186918619, val acc: 0.7700678706169128\n",
            "epoch: 7, loss: 0.6351027796551423, acc: 0.7789507508277893,         val loss: 0.6907259800944465, val acc: 0.7635782361030579\n",
            "epoch: 8, loss: 0.6139260303760596, acc: 0.7869482040405273,         val loss: 0.6369895923632783, val acc: 0.7815495133399963\n",
            "epoch: 9, loss: 0.6013781927139883, acc: 0.7908069491386414,         val loss: 0.6327708600618588, val acc: 0.784744381904602\n",
            "epoch: 10, loss: 0.5827553937699043, acc: 0.7985844612121582,         val loss: 0.6561187884678095, val acc: 0.7777555584907532\n",
            "epoch: 11, loss: 0.5699573860611583, acc: 0.8007637858390808,         val loss: 0.5986738882887478, val acc: 0.795127809047699\n",
            "epoch: 12, loss: 0.5585197370477921, acc: 0.8037828207015991,         val loss: 0.650973070020112, val acc: 0.7770566940307617\n",
            "epoch: 13, loss: 0.5525351683260612, acc: 0.8062019944190979,         val loss: 0.6185443595099372, val acc: 0.7908346652984619\n",
            "epoch: 14, loss: 0.5432284185120637, acc: 0.8113803863525391,         val loss: 0.6038155632373243, val acc: 0.7981230020523071\n"
          ]
        }
      ]
    },
    {
      "cell_type": "markdown",
      "metadata": {
        "id": "gC9zTME6QZFJ"
      },
      "source": [
        "# まとめ\n",
        "* 学習大体10分くらいかかる\n",
        "* 訓練データ\n",
        "    * 損失関数が順調に下がってきている\n",
        "    * 精度も92%くらいまで上がっている\n",
        "* 検証データ\n",
        "    * 損失関数が途中まで良かったが後半上がってきている\n",
        "    * それに伴って精度が低くなっている\n",
        "    * 過学習してしまっている\n",
        "\n",
        "* 過学習を抑えるための手段としてデータ拡張がある"
      ]
    },
    {
      "cell_type": "code",
      "metadata": {
        "colab": {
          "base_uri": "https://localhost:8080/",
          "height": 282
        },
        "id": "nQAH09xGP9Vb",
        "outputId": "d041602a-586c-4060-9968-5f6c07c055d0"
      },
      "source": [
        "# グラフを見てみる\n",
        "plt.style.use(\"ggplot\")\n",
        "plt.plot(losses, label=\"train loss\")\n",
        "plt.plot(val_losses, label=\"validation loss\")\n",
        "plt.legend()"
      ],
      "execution_count": 21,
      "outputs": [
        {
          "output_type": "execute_result",
          "data": {
            "text/plain": [
              "<matplotlib.legend.Legend at 0x7f25c772c550>"
            ]
          },
          "metadata": {},
          "execution_count": 21
        },
        {
          "output_type": "display_data",
          "data": {
            "image/png": "[encoded data removed]",
            "text/plain": [
              "<Figure size 432x288 with 1 Axes>"
            ]
          },
          "metadata": {}
        }
      ]
    },
    {
      "cell_type": "code",
      "metadata": {
        "colab": {
          "base_uri": "https://localhost:8080/",
          "height": 282
        },
        "id": "JCuNLCfbRS_m",
        "outputId": "95ddb02a-dac9-47b0-b590-bc3b9023a760"
      },
      "source": [
        "plt.plot(accs, label=\"train acc\")\n",
        "plt.plot(val_accs, label=\"validation acc\")\n",
        "plt.legend()"
      ],
      "execution_count": 22,
      "outputs": [
        {
          "output_type": "execute_result",
          "data": {
            "text/plain": [
              "<matplotlib.legend.Legend at 0x7f25c75eb810>"
            ]
          },
          "metadata": {},
          "execution_count": 22
        },
        {
          "output_type": "display_data",
          "data": {
            "image/png": "[encoded data removed]",
            "text/plain": [
              "<Figure size 432x288 with 1 Axes>"
            ]
          },
          "metadata": {}
        }
      ]
    },
    {
      "cell_type": "code",
      "metadata": {
        "id": "rr26bS1xd7Dg"
      },
      "source": [
        ""
      ],
      "execution_count": 22,
      "outputs": []
    }
  ]
}